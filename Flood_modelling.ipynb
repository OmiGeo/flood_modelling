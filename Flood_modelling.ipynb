{
  "nbformat": 4,
  "nbformat_minor": 0,
  "metadata": {
    "colab": {
      "provenance": []
    },
    "kernelspec": {
      "name": "python3",
      "display_name": "Python 3"
    },
    "language_info": {
      "name": "python"
    }
  },
  "cells": [
    {
      "cell_type": "code",
      "execution_count": null,
      "metadata": {
        "colab": {
          "base_uri": "https://localhost:8080/"
        },
        "id": "M9EZp1xQ-SdC",
        "outputId": "82c25a99-1051-41db-f72d-23b8f5ea096c"
      },
      "outputs": [
        {
          "output_type": "stream",
          "name": "stdout",
          "text": [
            "Drive already mounted at /content/drive; to attempt to forcibly remount, call drive.mount(\"/content/drive\", force_remount=True).\n"
          ]
        }
      ],
      "source": [
        "from google.colab import drive\n",
        "drive.mount('/content/drive')"
      ]
    },
    {
      "cell_type": "code",
      "source": [],
      "metadata": {
        "id": "xeVR_xpYC1IL"
      },
      "execution_count": null,
      "outputs": []
    },
    {
      "cell_type": "code",
      "source": [
        "import numpy as np\n",
        "import pandas as pd\n"
      ],
      "metadata": {
        "id": "X0zuWQiK-mTl"
      },
      "execution_count": null,
      "outputs": []
    },
    {
      "cell_type": "code",
      "source": [
        "from google.colab import files\n",
        "\n",
        "\n",
        "uploaded = files.upload()"
      ],
      "metadata": {
        "colab": {
          "base_uri": "https://localhost:8080/",
          "height": 73
        },
        "id": "64NpdtJ_-qQx",
        "outputId": "ecf69e37-fed8-4667-8fcf-77618ea211c2"
      },
      "execution_count": null,
      "outputs": [
        {
          "output_type": "display_data",
          "data": {
            "text/plain": [
              "<IPython.core.display.HTML object>"
            ],
            "text/html": [
              "\n",
              "     <input type=\"file\" id=\"files-eb04822d-2faf-4238-9c9f-89fbfd0dce52\" name=\"files[]\" multiple disabled\n",
              "        style=\"border:none\" />\n",
              "     <output id=\"result-eb04822d-2faf-4238-9c9f-89fbfd0dce52\">\n",
              "      Upload widget is only available when the cell has been executed in the\n",
              "      current browser session. Please rerun this cell to enable.\n",
              "      </output>\n",
              "      <script>// Copyright 2017 Google LLC\n",
              "//\n",
              "// Licensed under the Apache License, Version 2.0 (the \"License\");\n",
              "// you may not use this file except in compliance with the License.\n",
              "// You may obtain a copy of the License at\n",
              "//\n",
              "//      http://www.apache.org/licenses/LICENSE-2.0\n",
              "//\n",
              "// Unless required by applicable law or agreed to in writing, software\n",
              "// distributed under the License is distributed on an \"AS IS\" BASIS,\n",
              "// WITHOUT WARRANTIES OR CONDITIONS OF ANY KIND, either express or implied.\n",
              "// See the License for the specific language governing permissions and\n",
              "// limitations under the License.\n",
              "\n",
              "/**\n",
              " * @fileoverview Helpers for google.colab Python module.\n",
              " */\n",
              "(function(scope) {\n",
              "function span(text, styleAttributes = {}) {\n",
              "  const element = document.createElement('span');\n",
              "  element.textContent = text;\n",
              "  for (const key of Object.keys(styleAttributes)) {\n",
              "    element.style[key] = styleAttributes[key];\n",
              "  }\n",
              "  return element;\n",
              "}\n",
              "\n",
              "// Max number of bytes which will be uploaded at a time.\n",
              "const MAX_PAYLOAD_SIZE = 100 * 1024;\n",
              "\n",
              "function _uploadFiles(inputId, outputId) {\n",
              "  const steps = uploadFilesStep(inputId, outputId);\n",
              "  const outputElement = document.getElementById(outputId);\n",
              "  // Cache steps on the outputElement to make it available for the next call\n",
              "  // to uploadFilesContinue from Python.\n",
              "  outputElement.steps = steps;\n",
              "\n",
              "  return _uploadFilesContinue(outputId);\n",
              "}\n",
              "\n",
              "// This is roughly an async generator (not supported in the browser yet),\n",
              "// where there are multiple asynchronous steps and the Python side is going\n",
              "// to poll for completion of each step.\n",
              "// This uses a Promise to block the python side on completion of each step,\n",
              "// then passes the result of the previous step as the input to the next step.\n",
              "function _uploadFilesContinue(outputId) {\n",
              "  const outputElement = document.getElementById(outputId);\n",
              "  const steps = outputElement.steps;\n",
              "\n",
              "  const next = steps.next(outputElement.lastPromiseValue);\n",
              "  return Promise.resolve(next.value.promise).then((value) => {\n",
              "    // Cache the last promise value to make it available to the next\n",
              "    // step of the generator.\n",
              "    outputElement.lastPromiseValue = value;\n",
              "    return next.value.response;\n",
              "  });\n",
              "}\n",
              "\n",
              "/**\n",
              " * Generator function which is called between each async step of the upload\n",
              " * process.\n",
              " * @param {string} inputId Element ID of the input file picker element.\n",
              " * @param {string} outputId Element ID of the output display.\n",
              " * @return {!Iterable<!Object>} Iterable of next steps.\n",
              " */\n",
              "function* uploadFilesStep(inputId, outputId) {\n",
              "  const inputElement = document.getElementById(inputId);\n",
              "  inputElement.disabled = false;\n",
              "\n",
              "  const outputElement = document.getElementById(outputId);\n",
              "  outputElement.innerHTML = '';\n",
              "\n",
              "  const pickedPromise = new Promise((resolve) => {\n",
              "    inputElement.addEventListener('change', (e) => {\n",
              "      resolve(e.target.files);\n",
              "    });\n",
              "  });\n",
              "\n",
              "  const cancel = document.createElement('button');\n",
              "  inputElement.parentElement.appendChild(cancel);\n",
              "  cancel.textContent = 'Cancel upload';\n",
              "  const cancelPromise = new Promise((resolve) => {\n",
              "    cancel.onclick = () => {\n",
              "      resolve(null);\n",
              "    };\n",
              "  });\n",
              "\n",
              "  // Wait for the user to pick the files.\n",
              "  const files = yield {\n",
              "    promise: Promise.race([pickedPromise, cancelPromise]),\n",
              "    response: {\n",
              "      action: 'starting',\n",
              "    }\n",
              "  };\n",
              "\n",
              "  cancel.remove();\n",
              "\n",
              "  // Disable the input element since further picks are not allowed.\n",
              "  inputElement.disabled = true;\n",
              "\n",
              "  if (!files) {\n",
              "    return {\n",
              "      response: {\n",
              "        action: 'complete',\n",
              "      }\n",
              "    };\n",
              "  }\n",
              "\n",
              "  for (const file of files) {\n",
              "    const li = document.createElement('li');\n",
              "    li.append(span(file.name, {fontWeight: 'bold'}));\n",
              "    li.append(span(\n",
              "        `(${file.type || 'n/a'}) - ${file.size} bytes, ` +\n",
              "        `last modified: ${\n",
              "            file.lastModifiedDate ? file.lastModifiedDate.toLocaleDateString() :\n",
              "                                    'n/a'} - `));\n",
              "    const percent = span('0% done');\n",
              "    li.appendChild(percent);\n",
              "\n",
              "    outputElement.appendChild(li);\n",
              "\n",
              "    const fileDataPromise = new Promise((resolve) => {\n",
              "      const reader = new FileReader();\n",
              "      reader.onload = (e) => {\n",
              "        resolve(e.target.result);\n",
              "      };\n",
              "      reader.readAsArrayBuffer(file);\n",
              "    });\n",
              "    // Wait for the data to be ready.\n",
              "    let fileData = yield {\n",
              "      promise: fileDataPromise,\n",
              "      response: {\n",
              "        action: 'continue',\n",
              "      }\n",
              "    };\n",
              "\n",
              "    // Use a chunked sending to avoid message size limits. See b/62115660.\n",
              "    let position = 0;\n",
              "    do {\n",
              "      const length = Math.min(fileData.byteLength - position, MAX_PAYLOAD_SIZE);\n",
              "      const chunk = new Uint8Array(fileData, position, length);\n",
              "      position += length;\n",
              "\n",
              "      const base64 = btoa(String.fromCharCode.apply(null, chunk));\n",
              "      yield {\n",
              "        response: {\n",
              "          action: 'append',\n",
              "          file: file.name,\n",
              "          data: base64,\n",
              "        },\n",
              "      };\n",
              "\n",
              "      let percentDone = fileData.byteLength === 0 ?\n",
              "          100 :\n",
              "          Math.round((position / fileData.byteLength) * 100);\n",
              "      percent.textContent = `${percentDone}% done`;\n",
              "\n",
              "    } while (position < fileData.byteLength);\n",
              "  }\n",
              "\n",
              "  // All done.\n",
              "  yield {\n",
              "    response: {\n",
              "      action: 'complete',\n",
              "    }\n",
              "  };\n",
              "}\n",
              "\n",
              "scope.google = scope.google || {};\n",
              "scope.google.colab = scope.google.colab || {};\n",
              "scope.google.colab._files = {\n",
              "  _uploadFiles,\n",
              "  _uploadFilesContinue,\n",
              "};\n",
              "})(self);\n",
              "</script> "
            ]
          },
          "metadata": {}
        },
        {
          "output_type": "stream",
          "name": "stdout",
          "text": [
            "Saving DP.csv to DP (1).csv\n"
          ]
        }
      ]
    },
    {
      "cell_type": "code",
      "source": [
        "import pandas as pd\n",
        "import io\n",
        "\n",
        "df = pd.read_csv(io.BytesIO(uploaded['DP.csv']))\n",
        "print(df)\n"
      ],
      "metadata": {
        "colab": {
          "base_uri": "https://localhost:8080/"
        },
        "id": "pza-CmkX-yK3",
        "outputId": "803d1b7d-b5ee-4085-f087-0cfadee9c0cc"
      },
      "execution_count": null,
      "outputs": [
        {
          "output_type": "stream",
          "name": "stdout",
          "text": [
            "          Date  Level  rainfall  Humidity  Tempreature\n",
            "0    01-Jun-20   6.00     21.74     19.41        25.69\n",
            "1    02-Jun-20   7.32     29.47     18.92        25.54\n",
            "2    03-Jun-20   7.50     15.75     19.23        25.50\n",
            "3    04-Jun-20   7.48     14.63     18.74        25.25\n",
            "4    05-Jun-20   7.44      6.17     18.19        25.59\n",
            "..         ...    ...       ...       ...          ...\n",
            "807  27-Oct-18   3.90      0.00     14.95        24.01\n",
            "808  28-Oct-18   3.87      0.00     13.85        23.47\n",
            "809  29-Oct-18   3.85      0.00     13.55        22.94\n",
            "810  30-Oct-18   3.75      0.00     13.49        22.73\n",
            "811  31-Oct-18   3.74      0.00     15.08        23.60\n",
            "\n",
            "[812 rows x 5 columns]\n"
          ]
        }
      ]
    },
    {
      "cell_type": "code",
      "source": [
        "import matplotlib.pyplot as plt\n",
        "import seaborn as sns"
      ],
      "metadata": {
        "id": "DmBGDMc-MjIu"
      },
      "execution_count": null,
      "outputs": []
    },
    {
      "cell_type": "code",
      "source": [
        "sns.heatmap(df.corr(), annot =True)\n",
        "plt.title('Correlation Matrix')"
      ],
      "metadata": {
        "colab": {
          "base_uri": "https://localhost:8080/",
          "height": 524
        },
        "id": "WhAGjAAsMlZc",
        "outputId": "e368c470-84cc-49ac-ad09-266d7d903d9f"
      },
      "execution_count": null,
      "outputs": [
        {
          "output_type": "stream",
          "name": "stderr",
          "text": [
            "<ipython-input-65-daf096e1202c>:1: FutureWarning: The default value of numeric_only in DataFrame.corr is deprecated. In a future version, it will default to False. Select only valid columns or specify the value of numeric_only to silence this warning.\n",
            "  sns.heatmap(df.corr(), annot =True)\n"
          ]
        },
        {
          "output_type": "execute_result",
          "data": {
            "text/plain": [
              "Text(0.5, 1.0, 'Correlation Matrix')"
            ]
          },
          "metadata": {},
          "execution_count": 65
        },
        {
          "output_type": "display_data",
          "data": {
            "text/plain": [
              "<Figure size 640x480 with 2 Axes>"
            ],
            "image/png": "[encoded data removed]"
          },
          "metadata": {}
        }
      ]
    },
    {
      "cell_type": "code",
      "source": [
        "df.describe()"
      ],
      "metadata": {
        "colab": {
          "base_uri": "https://localhost:8080/",
          "height": 300
        },
        "id": "ynorIHXENRY8",
        "outputId": "82078531-3e3a-48e7-8169-4c1afa4671c5"
      },
      "execution_count": null,
      "outputs": [
        {
          "output_type": "execute_result",
          "data": {
            "text/plain": [
              "            Level    rainfall    Humidity  Tempreature\n",
              "count  812.000000  812.000000  812.000000   812.000000\n",
              "mean     8.109175   13.833485   17.776342    24.550283\n",
              "std      2.093830   15.345481    0.842916     1.149157\n",
              "min      2.490000    0.000000   13.490000    22.170000\n",
              "25%      6.257500    4.017500   17.330000    23.840000\n",
              "50%      8.435000    8.975000   17.820000    24.235000\n",
              "75%      9.362500   17.955000   18.310000    24.962500\n",
              "max     18.240000  138.580000   20.080000    30.210000"
            ],
            "text/html": [
              "\n",
              "  <div id=\"df-e8ead035-cae8-49ea-840d-45affd8ca719\">\n",
              "    <div class=\"colab-df-container\">\n",
              "      <div>\n",
              "<style scoped>\n",
              "    .dataframe tbody tr th:only-of-type {\n",
              "        vertical-align: middle;\n",
              "    }\n",
              "\n",
              "    .dataframe tbody tr th {\n",
              "        vertical-align: top;\n",
              "    }\n",
              "\n",
              "    .dataframe thead th {\n",
              "        text-align: right;\n",
              "    }\n",
              "</style>\n",
              "<table border=\"1\" class=\"dataframe\">\n",
              "  <thead>\n",
              "    <tr style=\"text-align: right;\">\n",
              "      <th></th>\n",
              "      <th>Level</th>\n",
              "      <th>rainfall</th>\n",
              "      <th>Humidity</th>\n",
              "      <th>Tempreature</th>\n",
              "    </tr>\n",
              "  </thead>\n",
              "  <tbody>\n",
              "    <tr>\n",
              "      <th>count</th>\n",
              "      <td>812.000000</td>\n",
              "      <td>812.000000</td>\n",
              "      <td>812.000000</td>\n",
              "      <td>812.000000</td>\n",
              "    </tr>\n",
              "    <tr>\n",
              "      <th>mean</th>\n",
              "      <td>8.109175</td>\n",
              "      <td>13.833485</td>\n",
              "      <td>17.776342</td>\n",
              "      <td>24.550283</td>\n",
              "    </tr>\n",
              "    <tr>\n",
              "      <th>std</th>\n",
              "      <td>2.093830</td>\n",
              "      <td>15.345481</td>\n",
              "      <td>0.842916</td>\n",
              "      <td>1.149157</td>\n",
              "    </tr>\n",
              "    <tr>\n",
              "      <th>min</th>\n",
              "      <td>2.490000</td>\n",
              "      <td>0.000000</td>\n",
              "      <td>13.490000</td>\n",
              "      <td>22.170000</td>\n",
              "    </tr>\n",
              "    <tr>\n",
              "      <th>25%</th>\n",
              "      <td>6.257500</td>\n",
              "      <td>4.017500</td>\n",
              "      <td>17.330000</td>\n",
              "      <td>23.840000</td>\n",
              "    </tr>\n",
              "    <tr>\n",
              "      <th>50%</th>\n",
              "      <td>8.435000</td>\n",
              "      <td>8.975000</td>\n",
              "      <td>17.820000</td>\n",
              "      <td>24.235000</td>\n",
              "    </tr>\n",
              "    <tr>\n",
              "      <th>75%</th>\n",
              "      <td>9.362500</td>\n",
              "      <td>17.955000</td>\n",
              "      <td>18.310000</td>\n",
              "      <td>24.962500</td>\n",
              "    </tr>\n",
              "    <tr>\n",
              "      <th>max</th>\n",
              "      <td>18.240000</td>\n",
              "      <td>138.580000</td>\n",
              "      <td>20.080000</td>\n",
              "      <td>30.210000</td>\n",
              "    </tr>\n",
              "  </tbody>\n",
              "</table>\n",
              "</div>\n",
              "      <button class=\"colab-df-convert\" onclick=\"convertToInteractive('df-e8ead035-cae8-49ea-840d-45affd8ca719')\"\n",
              "              title=\"Convert this dataframe to an interactive table.\"\n",
              "              style=\"display:none;\">\n",
              "        \n",
              "  <svg xmlns=\"http://www.w3.org/2000/svg\" height=\"24px\"viewBox=\"0 0 24 24\"\n",
              "       width=\"24px\">\n",
              "    <path d=\"M0 0h24v24H0V0z\" fill=\"none\"/>\n",
              "    <path d=\"M18.56 5.44l.94 2.06.94-2.06 2.06-.94-2.06-.94-.94-2.06-.94 2.06-2.06.94zm-11 1L8.5 8.5l.94-2.06 2.06-.94-2.06-.94L8.5 2.5l-.94 2.06-2.06.94zm10 10l.94 2.06.94-2.06 2.06-.94-2.06-.94-.94-2.06-.94 2.06-2.06.94z\"/><path d=\"M17.41 7.96l-1.37-1.37c-.4-.4-.92-.59-1.43-.59-.52 0-1.04.2-1.43.59L10.3 9.45l-7.72 7.72c-.78.78-.78 2.05 0 2.83L4 21.41c.39.39.9.59 1.41.59.51 0 1.02-.2 1.41-.59l7.78-7.78 2.81-2.81c.8-.78.8-2.07 0-2.86zM5.41 20L4 18.59l7.72-7.72 1.47 1.35L5.41 20z\"/>\n",
              "  </svg>\n",
              "      </button>\n",
              "      \n",
              "  <style>\n",
              "    .colab-df-container {\n",
              "      display:flex;\n",
              "      flex-wrap:wrap;\n",
              "      gap: 12px;\n",
              "    }\n",
              "\n",
              "    .colab-df-convert {\n",
              "      background-color: #E8F0FE;\n",
              "      border: none;\n",
              "      border-radius: 50%;\n",
              "      cursor: pointer;\n",
              "      display: none;\n",
              "      fill: #1967D2;\n",
              "      height: 32px;\n",
              "      padding: 0 0 0 0;\n",
              "      width: 32px;\n",
              "    }\n",
              "\n",
              "    .colab-df-convert:hover {\n",
              "      background-color: #E2EBFA;\n",
              "      box-shadow: 0px 1px 2px rgba(60, 64, 67, 0.3), 0px 1px 3px 1px rgba(60, 64, 67, 0.15);\n",
              "      fill: #174EA6;\n",
              "    }\n",
              "\n",
              "    [theme=dark] .colab-df-convert {\n",
              "      background-color: #3B4455;\n",
              "      fill: #D2E3FC;\n",
              "    }\n",
              "\n",
              "    [theme=dark] .colab-df-convert:hover {\n",
              "      background-color: #434B5C;\n",
              "      box-shadow: 0px 1px 3px 1px rgba(0, 0, 0, 0.15);\n",
              "      filter: drop-shadow(0px 1px 2px rgba(0, 0, 0, 0.3));\n",
              "      fill: #FFFFFF;\n",
              "    }\n",
              "  </style>\n",
              "\n",
              "      <script>\n",
              "        const buttonEl =\n",
              "          document.querySelector('#df-e8ead035-cae8-49ea-840d-45affd8ca719 button.colab-df-convert');\n",
              "        buttonEl.style.display =\n",
              "          google.colab.kernel.accessAllowed ? 'block' : 'none';\n",
              "\n",
              "        async function convertToInteractive(key) {\n",
              "          const element = document.querySelector('#df-e8ead035-cae8-49ea-840d-45affd8ca719');\n",
              "          const dataTable =\n",
              "            await google.colab.kernel.invokeFunction('convertToInteractive',\n",
              "                                                     [key], {});\n",
              "          if (!dataTable) return;\n",
              "\n",
              "          const docLinkHtml = 'Like what you see? Visit the ' +\n",
              "            '<a target=\"_blank\" href=https://colab.research.google.com/notebooks/data_table.ipynb>data table notebook</a>'\n",
              "            + ' to learn more about interactive tables.';\n",
              "          element.innerHTML = '';\n",
              "          dataTable['output_type'] = 'display_data';\n",
              "          await google.colab.output.renderOutput(dataTable, element);\n",
              "          const docLink = document.createElement('div');\n",
              "          docLink.innerHTML = docLinkHtml;\n",
              "          element.appendChild(docLink);\n",
              "        }\n",
              "      </script>\n",
              "    </div>\n",
              "  </div>\n",
              "  "
            ]
          },
          "metadata": {},
          "execution_count": 66
        }
      ]
    },
    {
      "cell_type": "code",
      "source": [
        "df.head()"
      ],
      "metadata": {
        "id": "XIEYp8B0aFNz",
        "outputId": "3c473cf6-6550-477f-ecdd-da4d56120e43",
        "colab": {
          "base_uri": "https://localhost:8080/",
          "height": 206
        }
      },
      "execution_count": null,
      "outputs": [
        {
          "output_type": "execute_result",
          "data": {
            "text/plain": [
              "        Date  Level  rainfall  Humidity  Tempreature\n",
              "0  01-Jun-20   6.00     21.74     19.41        25.69\n",
              "1  02-Jun-20   7.32     29.47     18.92        25.54\n",
              "2  03-Jun-20   7.50     15.75     19.23        25.50\n",
              "3  04-Jun-20   7.48     14.63     18.74        25.25\n",
              "4  05-Jun-20   7.44      6.17     18.19        25.59"
            ],
            "text/html": [
              "\n",
              "  <div id=\"df-dddf0a39-19ee-400d-833f-6ac98022a396\">\n",
              "    <div class=\"colab-df-container\">\n",
              "      <div>\n",
              "<style scoped>\n",
              "    .dataframe tbody tr th:only-of-type {\n",
              "        vertical-align: middle;\n",
              "    }\n",
              "\n",
              "    .dataframe tbody tr th {\n",
              "        vertical-align: top;\n",
              "    }\n",
              "\n",
              "    .dataframe thead th {\n",
              "        text-align: right;\n",
              "    }\n",
              "</style>\n",
              "<table border=\"1\" class=\"dataframe\">\n",
              "  <thead>\n",
              "    <tr style=\"text-align: right;\">\n",
              "      <th></th>\n",
              "      <th>Date</th>\n",
              "      <th>Level</th>\n",
              "      <th>rainfall</th>\n",
              "      <th>Humidity</th>\n",
              "      <th>Tempreature</th>\n",
              "    </tr>\n",
              "  </thead>\n",
              "  <tbody>\n",
              "    <tr>\n",
              "      <th>0</th>\n",
              "      <td>01-Jun-20</td>\n",
              "      <td>6.00</td>\n",
              "      <td>21.74</td>\n",
              "      <td>19.41</td>\n",
              "      <td>25.69</td>\n",
              "    </tr>\n",
              "    <tr>\n",
              "      <th>1</th>\n",
              "      <td>02-Jun-20</td>\n",
              "      <td>7.32</td>\n",
              "      <td>29.47</td>\n",
              "      <td>18.92</td>\n",
              "      <td>25.54</td>\n",
              "    </tr>\n",
              "    <tr>\n",
              "      <th>2</th>\n",
              "      <td>03-Jun-20</td>\n",
              "      <td>7.50</td>\n",
              "      <td>15.75</td>\n",
              "      <td>19.23</td>\n",
              "      <td>25.50</td>\n",
              "    </tr>\n",
              "    <tr>\n",
              "      <th>3</th>\n",
              "      <td>04-Jun-20</td>\n",
              "      <td>7.48</td>\n",
              "      <td>14.63</td>\n",
              "      <td>18.74</td>\n",
              "      <td>25.25</td>\n",
              "    </tr>\n",
              "    <tr>\n",
              "      <th>4</th>\n",
              "      <td>05-Jun-20</td>\n",
              "      <td>7.44</td>\n",
              "      <td>6.17</td>\n",
              "      <td>18.19</td>\n",
              "      <td>25.59</td>\n",
              "    </tr>\n",
              "  </tbody>\n",
              "</table>\n",
              "</div>\n",
              "      <button class=\"colab-df-convert\" onclick=\"convertToInteractive('df-dddf0a39-19ee-400d-833f-6ac98022a396')\"\n",
              "              title=\"Convert this dataframe to an interactive table.\"\n",
              "              style=\"display:none;\">\n",
              "        \n",
              "  <svg xmlns=\"http://www.w3.org/2000/svg\" height=\"24px\"viewBox=\"0 0 24 24\"\n",
              "       width=\"24px\">\n",
              "    <path d=\"M0 0h24v24H0V0z\" fill=\"none\"/>\n",
              "    <path d=\"M18.56 5.44l.94 2.06.94-2.06 2.06-.94-2.06-.94-.94-2.06-.94 2.06-2.06.94zm-11 1L8.5 8.5l.94-2.06 2.06-.94-2.06-.94L8.5 2.5l-.94 2.06-2.06.94zm10 10l.94 2.06.94-2.06 2.06-.94-2.06-.94-.94-2.06-.94 2.06-2.06.94z\"/><path d=\"M17.41 7.96l-1.37-1.37c-.4-.4-.92-.59-1.43-.59-.52 0-1.04.2-1.43.59L10.3 9.45l-7.72 7.72c-.78.78-.78 2.05 0 2.83L4 21.41c.39.39.9.59 1.41.59.51 0 1.02-.2 1.41-.59l7.78-7.78 2.81-2.81c.8-.78.8-2.07 0-2.86zM5.41 20L4 18.59l7.72-7.72 1.47 1.35L5.41 20z\"/>\n",
              "  </svg>\n",
              "      </button>\n",
              "      \n",
              "  <style>\n",
              "    .colab-df-container {\n",
              "      display:flex;\n",
              "      flex-wrap:wrap;\n",
              "      gap: 12px;\n",
              "    }\n",
              "\n",
              "    .colab-df-convert {\n",
              "      background-color: #E8F0FE;\n",
              "      border: none;\n",
              "      border-radius: 50%;\n",
              "      cursor: pointer;\n",
              "      display: none;\n",
              "      fill: #1967D2;\n",
              "      height: 32px;\n",
              "      padding: 0 0 0 0;\n",
              "      width: 32px;\n",
              "    }\n",
              "\n",
              "    .colab-df-convert:hover {\n",
              "      background-color: #E2EBFA;\n",
              "      box-shadow: 0px 1px 2px rgba(60, 64, 67, 0.3), 0px 1px 3px 1px rgba(60, 64, 67, 0.15);\n",
              "      fill: #174EA6;\n",
              "    }\n",
              "\n",
              "    [theme=dark] .colab-df-convert {\n",
              "      background-color: #3B4455;\n",
              "      fill: #D2E3FC;\n",
              "    }\n",
              "\n",
              "    [theme=dark] .colab-df-convert:hover {\n",
              "      background-color: #434B5C;\n",
              "      box-shadow: 0px 1px 3px 1px rgba(0, 0, 0, 0.15);\n",
              "      filter: drop-shadow(0px 1px 2px rgba(0, 0, 0, 0.3));\n",
              "      fill: #FFFFFF;\n",
              "    }\n",
              "  </style>\n",
              "\n",
              "      <script>\n",
              "        const buttonEl =\n",
              "          document.querySelector('#df-dddf0a39-19ee-400d-833f-6ac98022a396 button.colab-df-convert');\n",
              "        buttonEl.style.display =\n",
              "          google.colab.kernel.accessAllowed ? 'block' : 'none';\n",
              "\n",
              "        async function convertToInteractive(key) {\n",
              "          const element = document.querySelector('#df-dddf0a39-19ee-400d-833f-6ac98022a396');\n",
              "          const dataTable =\n",
              "            await google.colab.kernel.invokeFunction('convertToInteractive',\n",
              "                                                     [key], {});\n",
              "          if (!dataTable) return;\n",
              "\n",
              "          const docLinkHtml = 'Like what you see? Visit the ' +\n",
              "            '<a target=\"_blank\" href=https://colab.research.google.com/notebooks/data_table.ipynb>data table notebook</a>'\n",
              "            + ' to learn more about interactive tables.';\n",
              "          element.innerHTML = '';\n",
              "          dataTable['output_type'] = 'display_data';\n",
              "          await google.colab.output.renderOutput(dataTable, element);\n",
              "          const docLink = document.createElement('div');\n",
              "          docLink.innerHTML = docLinkHtml;\n",
              "          element.appendChild(docLink);\n",
              "        }\n",
              "      </script>\n",
              "    </div>\n",
              "  </div>\n",
              "  "
            ]
          },
          "metadata": {},
          "execution_count": 67
        }
      ]
    },
    {
      "cell_type": "code",
      "source": [
        "X = df[['Humidity','Tempreature','rainfall']]\n",
        "y = df['Level']"
      ],
      "metadata": {
        "id": "wrwD885F-3YM"
      },
      "execution_count": null,
      "outputs": []
    },
    {
      "cell_type": "code",
      "source": [
        "from sklearn.model_selection import train_test_split\n"
      ],
      "metadata": {
        "id": "RGAU6mlf_NTu"
      },
      "execution_count": null,
      "outputs": []
    },
    {
      "cell_type": "code",
      "source": [
        "X_train, X_test, y_train, y_test = train_test_split(X, y, test_size = 0.2, random_state = 20)\n"
      ],
      "metadata": {
        "id": "SnrHRhyN_Aai"
      },
      "execution_count": null,
      "outputs": []
    },
    {
      "cell_type": "code",
      "source": [
        "from sklearn.preprocessing import MinMaxScalar\n",
        "scaler=MinMaxScalar()\n",
        "scaler.fit(X_train,X_test)\n"
      ],
      "metadata": {
        "colab": {
          "base_uri": "https://localhost:8080/",
          "height": 349
        },
        "id": "lRTI9nEH_apk",
        "outputId": "af92af19-baa9-49c1-f9cc-09d7c7afe121"
      },
      "execution_count": null,
      "outputs": [
        {
          "output_type": "error",
          "ename": "ImportError",
          "evalue": "ignored",
          "traceback": [
            "\u001b[0;31m---------------------------------------------------------------------------\u001b[0m",
            "\u001b[0;31mImportError\u001b[0m                               Traceback (most recent call last)",
            "\u001b[0;32m<ipython-input-1-239076666d4e>\u001b[0m in \u001b[0;36m<cell line: 1>\u001b[0;34m()\u001b[0m\n\u001b[0;32m----> 1\u001b[0;31m \u001b[0;32mfrom\u001b[0m \u001b[0msklearn\u001b[0m\u001b[0;34m.\u001b[0m\u001b[0mpreprocessing\u001b[0m \u001b[0;32mimport\u001b[0m \u001b[0mMinMaxScalar\u001b[0m\u001b[0;34m\u001b[0m\u001b[0;34m\u001b[0m\u001b[0m\n\u001b[0m\u001b[1;32m      2\u001b[0m \u001b[0mscaler\u001b[0m\u001b[0;34m=\u001b[0m\u001b[0mMinMaxScalar\u001b[0m\u001b[0;34m(\u001b[0m\u001b[0;34m)\u001b[0m\u001b[0;34m\u001b[0m\u001b[0;34m\u001b[0m\u001b[0m\n\u001b[1;32m      3\u001b[0m \u001b[0mscaler\u001b[0m\u001b[0;34m.\u001b[0m\u001b[0mfit\u001b[0m\u001b[0;34m(\u001b[0m\u001b[0mX_train\u001b[0m\u001b[0;34m,\u001b[0m\u001b[0mX_test\u001b[0m\u001b[0;34m)\u001b[0m\u001b[0;34m\u001b[0m\u001b[0;34m\u001b[0m\u001b[0m\n",
            "\u001b[0;31mImportError\u001b[0m: cannot import name 'MinMaxScalar' from 'sklearn.preprocessing' (/usr/local/lib/python3.10/dist-packages/sklearn/preprocessing/__init__.py)",
            "",
            "\u001b[0;31m---------------------------------------------------------------------------\u001b[0;32m\nNOTE: If your import is failing due to a missing package, you can\nmanually install dependencies using either !pip or !apt.\n\nTo view examples of installing some common dependencies, click the\n\"Open Examples\" button below.\n\u001b[0;31m---------------------------------------------------------------------------\u001b[0m\n"
          ],
          "errorDetails": {
            "actions": [
              {
                "action": "open_url",
                "actionText": "Open Examples",
                "url": "/notebooks/snippets/importing_libraries.ipynb"
              }
            ]
          }
        }
      ]
    },
    {
      "cell_type": "code",
      "source": [
        "X_train_scaled = scaler.transform(X_train)\n",
        "X_test_scaled = scaler.transform(X_test)\n"
      ],
      "metadata": {
        "id": "XoY3y-Sa_eqY"
      },
      "execution_count": null,
      "outputs": []
    },
    {
      "cell_type": "code",
      "source": [
        "from keras.models import Sequential\n",
        "from keras.layers import Dense\n",
        "from keras.wrappers.scikit_learn import KerasRegressor\n",
        "from sklearn.model_selection import cross_val_score\n",
        "from sklearn.model_selection import KFold\n",
        "from sklearn.pipeline import Pipeline\n",
        "from sklearn.model_selection import train_test_split"
      ],
      "metadata": {
        "id": "3p4V701m_rFR"
      },
      "execution_count": null,
      "outputs": []
    },
    {
      "cell_type": "code",
      "source": [
        "model = Sequential()\n",
        "model.add(Dense(128, input_dim=3, activation='relu'))\n",
        "model.add(Dense(64, activation='relu'))\n",
        "#Output layer\n",
        "model.add(Dense(1, activation='linear'))\n",
        "\n",
        "model.compile(loss='mean_squared_error', optimizer='adam', metrics=['mae'])\n",
        "model.summary()\n"
      ],
      "metadata": {
        "colab": {
          "base_uri": "https://localhost:8080/"
        },
        "id": "m9k4jGzO_gLr",
        "outputId": "c91c4799-d40b-4952-d5bc-4d7a7bd7996e"
      },
      "execution_count": null,
      "outputs": [
        {
          "output_type": "stream",
          "name": "stdout",
          "text": [
            "Model: \"sequential_1\"\n",
            "_________________________________________________________________\n",
            " Layer (type)                Output Shape              Param #   \n",
            "=================================================================\n",
            " dense_3 (Dense)             (None, 128)               512       \n",
            "                                                                 \n",
            " dense_4 (Dense)             (None, 64)                8256      \n",
            "                                                                 \n",
            " dense_5 (Dense)             (None, 1)                 65        \n",
            "                                                                 \n",
            "=================================================================\n",
            "Total params: 8,833\n",
            "Trainable params: 8,833\n",
            "Non-trainable params: 0\n",
            "_________________________________________________________________\n"
          ]
        }
      ]
    },
    {
      "cell_type": "code",
      "source": [
        "history = model.fit(X_train_scaled, y_train, validation_split=0.2, epochs =200)\n"
      ],
      "metadata": {
        "colab": {
          "base_uri": "https://localhost:8080/"
        },
        "id": "gT6Z44Pi_vQK",
        "outputId": "6c35748b-b569-4763-ae39-53086281ef4c"
      },
      "execution_count": null,
      "outputs": [
        {
          "output_type": "stream",
          "name": "stdout",
          "text": [
            "Epoch 1/200\n",
            "17/17 [==============================] - 1s 17ms/step - loss: 67.8629 - mae: 8.0717 - val_loss: 56.3983 - val_mae: 7.2724\n",
            "Epoch 2/200\n",
            "17/17 [==============================] - 0s 5ms/step - loss: 47.7345 - mae: 6.6303 - val_loss: 34.1909 - val_mae: 5.4784\n",
            "Epoch 3/200\n",
            "17/17 [==============================] - 0s 5ms/step - loss: 25.6108 - mae: 4.5884 - val_loss: 14.8070 - val_mae: 3.3847\n",
            "Epoch 4/200\n",
            "17/17 [==============================] - 0s 5ms/step - loss: 12.1497 - mae: 2.9680 - val_loss: 8.4169 - val_mae: 2.3796\n",
            "Epoch 5/200\n",
            "17/17 [==============================] - 0s 5ms/step - loss: 8.4489 - mae: 2.3582 - val_loss: 5.9896 - val_mae: 1.9949\n",
            "Epoch 6/200\n",
            "17/17 [==============================] - 0s 5ms/step - loss: 6.0636 - mae: 1.9971 - val_loss: 4.6593 - val_mae: 1.7338\n",
            "Epoch 7/200\n",
            "17/17 [==============================] - 0s 5ms/step - loss: 4.7734 - mae: 1.7643 - val_loss: 4.0741 - val_mae: 1.6097\n",
            "Epoch 8/200\n",
            "17/17 [==============================] - 0s 5ms/step - loss: 3.9407 - mae: 1.5795 - val_loss: 3.7925 - val_mae: 1.5273\n",
            "Epoch 9/200\n",
            "17/17 [==============================] - 0s 5ms/step - loss: 3.4801 - mae: 1.4776 - val_loss: 3.5385 - val_mae: 1.4736\n",
            "Epoch 10/200\n",
            "17/17 [==============================] - 0s 5ms/step - loss: 3.1429 - mae: 1.3951 - val_loss: 3.3684 - val_mae: 1.4343\n",
            "Epoch 11/200\n",
            "17/17 [==============================] - 0s 4ms/step - loss: 2.8888 - mae: 1.3313 - val_loss: 3.2322 - val_mae: 1.3956\n",
            "Epoch 12/200\n",
            "17/17 [==============================] - 0s 4ms/step - loss: 2.6605 - mae: 1.2723 - val_loss: 3.0313 - val_mae: 1.3532\n",
            "Epoch 13/200\n",
            "17/17 [==============================] - 0s 4ms/step - loss: 2.4418 - mae: 1.2214 - val_loss: 2.8615 - val_mae: 1.3135\n",
            "Epoch 14/200\n",
            "17/17 [==============================] - 0s 6ms/step - loss: 2.2670 - mae: 1.1735 - val_loss: 2.6972 - val_mae: 1.2700\n",
            "Epoch 15/200\n",
            "17/17 [==============================] - 0s 5ms/step - loss: 2.1085 - mae: 1.1277 - val_loss: 2.5948 - val_mae: 1.2364\n",
            "Epoch 16/200\n",
            "17/17 [==============================] - 0s 4ms/step - loss: 1.9836 - mae: 1.0888 - val_loss: 2.4490 - val_mae: 1.1933\n",
            "Epoch 17/200\n",
            "17/17 [==============================] - 0s 4ms/step - loss: 1.8430 - mae: 1.0480 - val_loss: 2.3485 - val_mae: 1.1665\n",
            "Epoch 18/200\n",
            "17/17 [==============================] - 0s 5ms/step - loss: 1.7293 - mae: 1.0071 - val_loss: 2.2733 - val_mae: 1.1301\n",
            "Epoch 19/200\n",
            "17/17 [==============================] - 0s 4ms/step - loss: 1.6237 - mae: 0.9793 - val_loss: 2.1234 - val_mae: 1.0965\n",
            "Epoch 20/200\n",
            "17/17 [==============================] - 0s 4ms/step - loss: 1.5391 - mae: 0.9328 - val_loss: 2.0864 - val_mae: 1.0639\n",
            "Epoch 21/200\n",
            "17/17 [==============================] - 0s 5ms/step - loss: 1.6046 - mae: 0.9681 - val_loss: 2.1307 - val_mae: 1.0635\n",
            "Epoch 22/200\n",
            "17/17 [==============================] - 0s 4ms/step - loss: 1.3975 - mae: 0.8813 - val_loss: 1.9872 - val_mae: 1.0216\n",
            "Epoch 23/200\n",
            "17/17 [==============================] - 0s 4ms/step - loss: 1.3486 - mae: 0.8707 - val_loss: 1.8973 - val_mae: 1.0015\n",
            "Epoch 24/200\n",
            "17/17 [==============================] - 0s 5ms/step - loss: 1.3141 - mae: 0.8515 - val_loss: 1.8845 - val_mae: 0.9856\n",
            "Epoch 25/200\n",
            "17/17 [==============================] - 0s 5ms/step - loss: 1.2592 - mae: 0.8285 - val_loss: 1.8276 - val_mae: 0.9654\n",
            "Epoch 26/200\n",
            "17/17 [==============================] - 0s 6ms/step - loss: 1.2426 - mae: 0.8165 - val_loss: 1.8020 - val_mae: 0.9598\n",
            "Epoch 27/200\n",
            "17/17 [==============================] - 0s 4ms/step - loss: 1.2218 - mae: 0.8144 - val_loss: 1.7721 - val_mae: 0.9451\n",
            "Epoch 28/200\n",
            "17/17 [==============================] - 0s 6ms/step - loss: 1.1983 - mae: 0.8016 - val_loss: 1.7453 - val_mae: 0.9341\n",
            "Epoch 29/200\n",
            "17/17 [==============================] - 0s 4ms/step - loss: 1.1743 - mae: 0.7909 - val_loss: 1.7490 - val_mae: 0.9324\n",
            "Epoch 30/200\n",
            "17/17 [==============================] - 0s 5ms/step - loss: 1.1569 - mae: 0.7812 - val_loss: 1.7032 - val_mae: 0.9225\n",
            "Epoch 31/200\n",
            "17/17 [==============================] - 0s 5ms/step - loss: 1.1490 - mae: 0.7795 - val_loss: 1.6503 - val_mae: 0.9090\n",
            "Epoch 32/200\n",
            "17/17 [==============================] - 0s 4ms/step - loss: 1.1470 - mae: 0.7797 - val_loss: 1.6986 - val_mae: 0.9177\n",
            "Epoch 33/200\n",
            "17/17 [==============================] - 0s 4ms/step - loss: 1.1258 - mae: 0.7666 - val_loss: 1.6682 - val_mae: 0.9061\n",
            "Epoch 34/200\n",
            "17/17 [==============================] - 0s 4ms/step - loss: 1.1939 - mae: 0.7813 - val_loss: 1.7849 - val_mae: 0.9331\n",
            "Epoch 35/200\n",
            "17/17 [==============================] - 0s 4ms/step - loss: 1.1152 - mae: 0.7689 - val_loss: 1.6616 - val_mae: 0.9110\n",
            "Epoch 36/200\n",
            "17/17 [==============================] - 0s 5ms/step - loss: 1.1218 - mae: 0.7670 - val_loss: 1.6783 - val_mae: 0.9143\n",
            "Epoch 37/200\n",
            "17/17 [==============================] - 0s 4ms/step - loss: 1.1149 - mae: 0.7763 - val_loss: 1.6401 - val_mae: 0.9066\n",
            "Epoch 38/200\n",
            "17/17 [==============================] - 0s 5ms/step - loss: 1.1031 - mae: 0.7643 - val_loss: 1.6948 - val_mae: 0.9088\n",
            "Epoch 39/200\n",
            "17/17 [==============================] - 0s 4ms/step - loss: 1.0976 - mae: 0.7520 - val_loss: 1.6619 - val_mae: 0.8995\n",
            "Epoch 40/200\n",
            "17/17 [==============================] - 0s 4ms/step - loss: 1.1320 - mae: 0.7655 - val_loss: 1.6192 - val_mae: 0.8984\n",
            "Epoch 41/200\n",
            "17/17 [==============================] - 0s 5ms/step - loss: 1.1157 - mae: 0.7634 - val_loss: 1.7055 - val_mae: 0.9136\n",
            "Epoch 42/200\n",
            "17/17 [==============================] - 0s 5ms/step - loss: 1.0909 - mae: 0.7505 - val_loss: 1.6258 - val_mae: 0.8969\n",
            "Epoch 43/200\n",
            "17/17 [==============================] - 0s 4ms/step - loss: 1.0888 - mae: 0.7545 - val_loss: 1.6666 - val_mae: 0.9043\n",
            "Epoch 44/200\n",
            "17/17 [==============================] - 0s 5ms/step - loss: 1.0898 - mae: 0.7563 - val_loss: 1.6382 - val_mae: 0.8962\n",
            "Epoch 45/200\n",
            "17/17 [==============================] - 0s 5ms/step - loss: 1.0796 - mae: 0.7446 - val_loss: 1.6773 - val_mae: 0.8999\n",
            "Epoch 46/200\n",
            "17/17 [==============================] - 0s 4ms/step - loss: 1.1220 - mae: 0.7660 - val_loss: 1.7106 - val_mae: 0.9187\n",
            "Epoch 47/200\n",
            "17/17 [==============================] - 0s 4ms/step - loss: 1.0929 - mae: 0.7585 - val_loss: 1.6081 - val_mae: 0.8907\n",
            "Epoch 48/200\n",
            "17/17 [==============================] - 0s 4ms/step - loss: 1.0767 - mae: 0.7431 - val_loss: 1.6609 - val_mae: 0.8952\n",
            "Epoch 49/200\n",
            "17/17 [==============================] - 0s 4ms/step - loss: 1.0812 - mae: 0.7448 - val_loss: 1.6474 - val_mae: 0.8967\n",
            "Epoch 50/200\n",
            "17/17 [==============================] - 0s 5ms/step - loss: 1.0738 - mae: 0.7445 - val_loss: 1.6214 - val_mae: 0.8880\n",
            "Epoch 51/200\n",
            "17/17 [==============================] - 0s 4ms/step - loss: 1.0688 - mae: 0.7383 - val_loss: 1.6347 - val_mae: 0.8910\n",
            "Epoch 52/200\n",
            "17/17 [==============================] - 0s 4ms/step - loss: 1.0711 - mae: 0.7390 - val_loss: 1.6651 - val_mae: 0.8964\n",
            "Epoch 53/200\n",
            "17/17 [==============================] - 0s 4ms/step - loss: 1.0859 - mae: 0.7528 - val_loss: 1.5857 - val_mae: 0.8849\n",
            "Epoch 54/200\n",
            "17/17 [==============================] - 0s 4ms/step - loss: 1.0801 - mae: 0.7452 - val_loss: 1.6719 - val_mae: 0.8957\n",
            "Epoch 55/200\n",
            "17/17 [==============================] - 0s 5ms/step - loss: 1.0596 - mae: 0.7378 - val_loss: 1.6135 - val_mae: 0.8834\n",
            "Epoch 56/200\n",
            "17/17 [==============================] - 0s 5ms/step - loss: 1.0944 - mae: 0.7503 - val_loss: 1.5629 - val_mae: 0.8768\n",
            "Epoch 57/200\n",
            "17/17 [==============================] - 0s 4ms/step - loss: 1.0781 - mae: 0.7506 - val_loss: 1.6589 - val_mae: 0.8961\n",
            "Epoch 58/200\n",
            "17/17 [==============================] - 0s 4ms/step - loss: 1.0665 - mae: 0.7392 - val_loss: 1.6250 - val_mae: 0.8900\n",
            "Epoch 59/200\n",
            "17/17 [==============================] - 0s 4ms/step - loss: 1.0627 - mae: 0.7369 - val_loss: 1.6388 - val_mae: 0.8890\n",
            "Epoch 60/200\n",
            "17/17 [==============================] - 0s 4ms/step - loss: 1.0575 - mae: 0.7340 - val_loss: 1.6090 - val_mae: 0.9036\n",
            "Epoch 61/200\n",
            "17/17 [==============================] - 0s 5ms/step - loss: 1.0720 - mae: 0.7447 - val_loss: 1.6129 - val_mae: 0.8891\n",
            "Epoch 62/200\n",
            "17/17 [==============================] - 0s 5ms/step - loss: 1.0715 - mae: 0.7449 - val_loss: 1.6610 - val_mae: 0.8929\n",
            "Epoch 63/200\n",
            "17/17 [==============================] - 0s 5ms/step - loss: 1.0595 - mae: 0.7364 - val_loss: 1.6517 - val_mae: 0.8963\n",
            "Epoch 64/200\n",
            "17/17 [==============================] - 0s 4ms/step - loss: 1.0593 - mae: 0.7416 - val_loss: 1.6205 - val_mae: 0.8955\n",
            "Epoch 65/200\n",
            "17/17 [==============================] - 0s 6ms/step - loss: 1.0681 - mae: 0.7407 - val_loss: 1.6374 - val_mae: 0.8913\n",
            "Epoch 66/200\n",
            "17/17 [==============================] - 0s 4ms/step - loss: 1.0883 - mae: 0.7505 - val_loss: 1.6272 - val_mae: 0.8923\n",
            "Epoch 67/200\n",
            "17/17 [==============================] - 0s 5ms/step - loss: 1.0791 - mae: 0.7403 - val_loss: 1.6748 - val_mae: 0.9094\n",
            "Epoch 68/200\n",
            "17/17 [==============================] - 0s 4ms/step - loss: 1.1004 - mae: 0.7604 - val_loss: 1.6627 - val_mae: 0.9092\n",
            "Epoch 69/200\n",
            "17/17 [==============================] - 0s 4ms/step - loss: 1.0774 - mae: 0.7409 - val_loss: 1.6409 - val_mae: 0.9017\n",
            "Epoch 70/200\n",
            "17/17 [==============================] - 0s 5ms/step - loss: 1.0725 - mae: 0.7515 - val_loss: 1.6557 - val_mae: 0.9091\n",
            "Epoch 71/200\n",
            "17/17 [==============================] - 0s 4ms/step - loss: 1.0558 - mae: 0.7433 - val_loss: 1.6763 - val_mae: 0.9065\n",
            "Epoch 72/200\n",
            "17/17 [==============================] - 0s 5ms/step - loss: 1.0680 - mae: 0.7414 - val_loss: 1.7321 - val_mae: 0.9210\n",
            "Epoch 73/200\n",
            "17/17 [==============================] - 0s 5ms/step - loss: 1.1166 - mae: 0.7752 - val_loss: 1.6201 - val_mae: 0.8969\n",
            "Epoch 74/200\n",
            "17/17 [==============================] - 0s 5ms/step - loss: 1.0633 - mae: 0.7481 - val_loss: 1.6201 - val_mae: 0.8970\n",
            "Epoch 75/200\n",
            "17/17 [==============================] - 0s 5ms/step - loss: 1.0600 - mae: 0.7458 - val_loss: 1.6811 - val_mae: 0.9217\n",
            "Epoch 76/200\n",
            "17/17 [==============================] - 0s 4ms/step - loss: 1.0610 - mae: 0.7476 - val_loss: 1.6403 - val_mae: 0.9115\n",
            "Epoch 77/200\n",
            "17/17 [==============================] - 0s 5ms/step - loss: 1.0560 - mae: 0.7374 - val_loss: 1.6360 - val_mae: 0.8899\n",
            "Epoch 78/200\n",
            "17/17 [==============================] - 0s 5ms/step - loss: 1.0573 - mae: 0.7425 - val_loss: 1.6415 - val_mae: 0.9118\n",
            "Epoch 79/200\n",
            "17/17 [==============================] - 0s 5ms/step - loss: 1.0739 - mae: 0.7468 - val_loss: 1.6944 - val_mae: 0.9146\n",
            "Epoch 80/200\n",
            "17/17 [==============================] - 0s 4ms/step - loss: 1.0757 - mae: 0.7397 - val_loss: 1.6562 - val_mae: 0.8986\n",
            "Epoch 81/200\n",
            "17/17 [==============================] - 0s 5ms/step - loss: 1.0639 - mae: 0.7347 - val_loss: 1.5767 - val_mae: 0.8874\n",
            "Epoch 82/200\n",
            "17/17 [==============================] - 0s 5ms/step - loss: 1.0473 - mae: 0.7359 - val_loss: 1.6546 - val_mae: 0.8958\n",
            "Epoch 83/200\n",
            "17/17 [==============================] - 0s 5ms/step - loss: 1.0516 - mae: 0.7379 - val_loss: 1.6411 - val_mae: 0.8971\n",
            "Epoch 84/200\n",
            "17/17 [==============================] - 0s 4ms/step - loss: 1.0665 - mae: 0.7326 - val_loss: 1.6348 - val_mae: 0.8904\n",
            "Epoch 85/200\n",
            "17/17 [==============================] - 0s 5ms/step - loss: 1.0407 - mae: 0.7258 - val_loss: 1.6341 - val_mae: 0.8926\n",
            "Epoch 86/200\n",
            "17/17 [==============================] - 0s 4ms/step - loss: 1.0761 - mae: 0.7407 - val_loss: 1.6227 - val_mae: 0.8877\n",
            "Epoch 87/200\n",
            "17/17 [==============================] - 0s 5ms/step - loss: 1.0399 - mae: 0.7261 - val_loss: 1.6824 - val_mae: 0.9031\n",
            "Epoch 88/200\n",
            "17/17 [==============================] - 0s 4ms/step - loss: 1.0444 - mae: 0.7270 - val_loss: 1.6111 - val_mae: 0.8851\n",
            "Epoch 89/200\n",
            "17/17 [==============================] - 0s 4ms/step - loss: 1.0587 - mae: 0.7378 - val_loss: 1.6507 - val_mae: 0.9049\n",
            "Epoch 90/200\n",
            "17/17 [==============================] - 0s 4ms/step - loss: 1.0546 - mae: 0.7360 - val_loss: 1.7030 - val_mae: 0.9081\n",
            "Epoch 91/200\n",
            "17/17 [==============================] - 0s 5ms/step - loss: 1.0519 - mae: 0.7331 - val_loss: 1.6736 - val_mae: 0.9092\n",
            "Epoch 92/200\n",
            "17/17 [==============================] - 0s 4ms/step - loss: 1.0531 - mae: 0.7425 - val_loss: 1.6231 - val_mae: 0.8898\n",
            "Epoch 93/200\n",
            "17/17 [==============================] - 0s 4ms/step - loss: 1.0395 - mae: 0.7315 - val_loss: 1.6789 - val_mae: 0.9123\n",
            "Epoch 94/200\n",
            "17/17 [==============================] - 0s 4ms/step - loss: 1.0436 - mae: 0.7327 - val_loss: 1.6981 - val_mae: 0.9199\n",
            "Epoch 95/200\n",
            "17/17 [==============================] - 0s 4ms/step - loss: 1.0424 - mae: 0.7303 - val_loss: 1.5640 - val_mae: 0.8728\n",
            "Epoch 96/200\n",
            "17/17 [==============================] - 0s 5ms/step - loss: 1.0477 - mae: 0.7303 - val_loss: 1.6298 - val_mae: 0.8976\n",
            "Epoch 97/200\n",
            "17/17 [==============================] - 0s 4ms/step - loss: 1.0439 - mae: 0.7254 - val_loss: 1.6118 - val_mae: 0.9059\n",
            "Epoch 98/200\n",
            "17/17 [==============================] - 0s 6ms/step - loss: 1.0415 - mae: 0.7304 - val_loss: 1.7003 - val_mae: 0.9178\n",
            "Epoch 99/200\n",
            "17/17 [==============================] - 0s 6ms/step - loss: 1.0514 - mae: 0.7358 - val_loss: 1.6298 - val_mae: 0.8903\n",
            "Epoch 100/200\n",
            "17/17 [==============================] - 0s 7ms/step - loss: 1.0463 - mae: 0.7306 - val_loss: 1.6455 - val_mae: 0.8894\n",
            "Epoch 101/200\n",
            "17/17 [==============================] - 0s 6ms/step - loss: 1.0334 - mae: 0.7297 - val_loss: 1.6288 - val_mae: 0.9057\n",
            "Epoch 102/200\n",
            "17/17 [==============================] - 0s 7ms/step - loss: 1.0649 - mae: 0.7411 - val_loss: 1.6545 - val_mae: 0.8952\n",
            "Epoch 103/200\n",
            "17/17 [==============================] - 0s 6ms/step - loss: 1.0380 - mae: 0.7366 - val_loss: 1.7052 - val_mae: 0.9172\n",
            "Epoch 104/200\n",
            "17/17 [==============================] - 0s 6ms/step - loss: 1.0819 - mae: 0.7427 - val_loss: 1.6581 - val_mae: 0.8983\n",
            "Epoch 105/200\n",
            "17/17 [==============================] - 0s 7ms/step - loss: 1.0347 - mae: 0.7238 - val_loss: 1.6389 - val_mae: 0.8940\n",
            "Epoch 106/200\n",
            "17/17 [==============================] - 0s 6ms/step - loss: 1.0354 - mae: 0.7291 - val_loss: 1.6993 - val_mae: 0.9158\n",
            "Epoch 107/200\n",
            "17/17 [==============================] - 0s 8ms/step - loss: 1.0284 - mae: 0.7228 - val_loss: 1.6093 - val_mae: 0.8892\n",
            "Epoch 108/200\n",
            "17/17 [==============================] - 0s 6ms/step - loss: 1.0469 - mae: 0.7356 - val_loss: 1.6322 - val_mae: 0.8981\n",
            "Epoch 109/200\n",
            "17/17 [==============================] - 0s 6ms/step - loss: 1.0810 - mae: 0.7438 - val_loss: 1.5883 - val_mae: 0.8866\n",
            "Epoch 110/200\n",
            "17/17 [==============================] - 0s 7ms/step - loss: 1.0447 - mae: 0.7315 - val_loss: 1.6947 - val_mae: 0.9051\n",
            "Epoch 111/200\n",
            "17/17 [==============================] - 0s 5ms/step - loss: 1.0412 - mae: 0.7260 - val_loss: 1.6493 - val_mae: 0.8918\n",
            "Epoch 112/200\n",
            "17/17 [==============================] - 0s 6ms/step - loss: 1.0554 - mae: 0.7269 - val_loss: 1.6347 - val_mae: 0.8959\n",
            "Epoch 113/200\n",
            "17/17 [==============================] - 0s 6ms/step - loss: 1.0255 - mae: 0.7198 - val_loss: 1.5933 - val_mae: 0.8854\n",
            "Epoch 114/200\n",
            "17/17 [==============================] - 0s 6ms/step - loss: 1.0277 - mae: 0.7182 - val_loss: 1.6000 - val_mae: 0.8943\n",
            "Epoch 115/200\n",
            "17/17 [==============================] - 0s 7ms/step - loss: 1.0542 - mae: 0.7388 - val_loss: 1.6424 - val_mae: 0.8951\n",
            "Epoch 116/200\n",
            "17/17 [==============================] - 0s 7ms/step - loss: 1.0477 - mae: 0.7340 - val_loss: 1.7060 - val_mae: 0.9213\n",
            "Epoch 117/200\n",
            "17/17 [==============================] - 0s 6ms/step - loss: 1.0645 - mae: 0.7533 - val_loss: 1.7800 - val_mae: 0.9461\n",
            "Epoch 118/200\n",
            "17/17 [==============================] - 0s 6ms/step - loss: 1.0622 - mae: 0.7378 - val_loss: 1.6250 - val_mae: 0.8926\n",
            "Epoch 119/200\n",
            "17/17 [==============================] - 0s 6ms/step - loss: 1.0575 - mae: 0.7316 - val_loss: 1.6129 - val_mae: 0.8846\n",
            "Epoch 120/200\n",
            "17/17 [==============================] - 0s 7ms/step - loss: 1.0396 - mae: 0.7239 - val_loss: 1.6935 - val_mae: 0.9171\n",
            "Epoch 121/200\n",
            "17/17 [==============================] - 0s 7ms/step - loss: 1.0454 - mae: 0.7299 - val_loss: 1.6182 - val_mae: 0.8977\n",
            "Epoch 122/200\n",
            "17/17 [==============================] - 0s 6ms/step - loss: 1.0364 - mae: 0.7238 - val_loss: 1.7020 - val_mae: 0.9083\n",
            "Epoch 123/200\n",
            "17/17 [==============================] - 0s 7ms/step - loss: 1.0606 - mae: 0.7421 - val_loss: 1.6298 - val_mae: 0.9148\n",
            "Epoch 124/200\n",
            "17/17 [==============================] - 0s 7ms/step - loss: 1.0625 - mae: 0.7424 - val_loss: 1.5896 - val_mae: 0.8880\n",
            "Epoch 125/200\n",
            "17/17 [==============================] - 0s 8ms/step - loss: 1.0454 - mae: 0.7222 - val_loss: 1.6419 - val_mae: 0.9013\n",
            "Epoch 126/200\n",
            "17/17 [==============================] - 0s 7ms/step - loss: 1.0279 - mae: 0.7250 - val_loss: 1.6685 - val_mae: 0.9013\n",
            "Epoch 127/200\n",
            "17/17 [==============================] - 0s 8ms/step - loss: 1.0316 - mae: 0.7270 - val_loss: 1.6042 - val_mae: 0.8938\n",
            "Epoch 128/200\n",
            "17/17 [==============================] - 0s 6ms/step - loss: 1.0322 - mae: 0.7189 - val_loss: 1.6339 - val_mae: 0.8923\n",
            "Epoch 129/200\n",
            "17/17 [==============================] - 0s 7ms/step - loss: 1.0250 - mae: 0.7169 - val_loss: 1.6216 - val_mae: 0.8867\n",
            "Epoch 130/200\n",
            "17/17 [==============================] - 0s 7ms/step - loss: 1.0244 - mae: 0.7173 - val_loss: 1.6070 - val_mae: 0.8943\n",
            "Epoch 131/200\n",
            "17/17 [==============================] - 0s 6ms/step - loss: 1.0471 - mae: 0.7304 - val_loss: 1.6071 - val_mae: 0.8878\n",
            "Epoch 132/200\n",
            "17/17 [==============================] - 0s 7ms/step - loss: 1.0419 - mae: 0.7286 - val_loss: 1.6414 - val_mae: 0.8966\n",
            "Epoch 133/200\n",
            "17/17 [==============================] - 0s 7ms/step - loss: 1.0279 - mae: 0.7230 - val_loss: 1.6042 - val_mae: 0.9011\n",
            "Epoch 134/200\n",
            "17/17 [==============================] - 0s 8ms/step - loss: 1.0239 - mae: 0.7191 - val_loss: 1.6501 - val_mae: 0.8933\n",
            "Epoch 135/200\n",
            "17/17 [==============================] - 0s 6ms/step - loss: 1.0190 - mae: 0.7104 - val_loss: 1.6309 - val_mae: 0.8934\n",
            "Epoch 136/200\n",
            "17/17 [==============================] - 0s 6ms/step - loss: 1.0453 - mae: 0.7346 - val_loss: 1.6256 - val_mae: 0.9016\n",
            "Epoch 137/200\n",
            "17/17 [==============================] - 0s 7ms/step - loss: 1.0407 - mae: 0.7310 - val_loss: 1.6722 - val_mae: 0.9154\n",
            "Epoch 138/200\n",
            "17/17 [==============================] - 0s 8ms/step - loss: 1.0525 - mae: 0.7260 - val_loss: 1.6141 - val_mae: 0.8885\n",
            "Epoch 139/200\n",
            "17/17 [==============================] - 0s 7ms/step - loss: 1.0241 - mae: 0.7186 - val_loss: 1.6460 - val_mae: 0.8965\n",
            "Epoch 140/200\n",
            "17/17 [==============================] - 0s 4ms/step - loss: 1.0607 - mae: 0.7421 - val_loss: 1.6891 - val_mae: 0.9254\n",
            "Epoch 141/200\n",
            "17/17 [==============================] - 0s 5ms/step - loss: 1.0513 - mae: 0.7346 - val_loss: 1.6017 - val_mae: 0.8830\n",
            "Epoch 142/200\n",
            "17/17 [==============================] - 0s 4ms/step - loss: 1.0268 - mae: 0.7217 - val_loss: 1.5961 - val_mae: 0.9011\n",
            "Epoch 143/200\n",
            "17/17 [==============================] - 0s 5ms/step - loss: 1.0344 - mae: 0.7274 - val_loss: 1.6151 - val_mae: 0.8940\n",
            "Epoch 144/200\n",
            "17/17 [==============================] - 0s 4ms/step - loss: 1.0554 - mae: 0.7310 - val_loss: 1.6329 - val_mae: 0.8819\n",
            "Epoch 145/200\n",
            "17/17 [==============================] - 0s 5ms/step - loss: 1.0334 - mae: 0.7168 - val_loss: 1.6245 - val_mae: 0.9157\n",
            "Epoch 146/200\n",
            "17/17 [==============================] - 0s 4ms/step - loss: 1.0186 - mae: 0.7277 - val_loss: 1.7513 - val_mae: 0.9390\n",
            "Epoch 147/200\n",
            "17/17 [==============================] - 0s 5ms/step - loss: 1.0629 - mae: 0.7397 - val_loss: 1.6405 - val_mae: 0.8932\n",
            "Epoch 148/200\n",
            "17/17 [==============================] - 0s 4ms/step - loss: 1.0279 - mae: 0.7334 - val_loss: 1.6291 - val_mae: 0.8952\n",
            "Epoch 149/200\n",
            "17/17 [==============================] - 0s 5ms/step - loss: 1.0270 - mae: 0.7223 - val_loss: 1.6294 - val_mae: 0.8947\n",
            "Epoch 150/200\n",
            "17/17 [==============================] - 0s 4ms/step - loss: 1.0533 - mae: 0.7450 - val_loss: 1.7061 - val_mae: 0.9225\n",
            "Epoch 151/200\n",
            "17/17 [==============================] - 0s 4ms/step - loss: 1.0114 - mae: 0.7155 - val_loss: 1.6211 - val_mae: 0.8890\n",
            "Epoch 152/200\n",
            "17/17 [==============================] - 0s 5ms/step - loss: 1.0233 - mae: 0.7182 - val_loss: 1.6542 - val_mae: 0.8892\n",
            "Epoch 153/200\n",
            "17/17 [==============================] - 0s 4ms/step - loss: 1.0188 - mae: 0.7143 - val_loss: 1.6808 - val_mae: 0.9038\n",
            "Epoch 154/200\n",
            "17/17 [==============================] - 0s 5ms/step - loss: 1.0663 - mae: 0.7433 - val_loss: 1.6498 - val_mae: 0.8985\n",
            "Epoch 155/200\n",
            "17/17 [==============================] - 0s 6ms/step - loss: 1.0351 - mae: 0.7363 - val_loss: 1.6427 - val_mae: 0.9121\n",
            "Epoch 156/200\n",
            "17/17 [==============================] - 0s 4ms/step - loss: 1.0251 - mae: 0.7255 - val_loss: 1.6525 - val_mae: 0.9014\n",
            "Epoch 157/200\n",
            "17/17 [==============================] - 0s 5ms/step - loss: 1.0190 - mae: 0.7213 - val_loss: 1.6945 - val_mae: 0.9076\n",
            "Epoch 158/200\n",
            "17/17 [==============================] - 0s 5ms/step - loss: 1.0274 - mae: 0.7207 - val_loss: 1.6692 - val_mae: 0.9141\n",
            "Epoch 159/200\n",
            "17/17 [==============================] - 0s 5ms/step - loss: 1.1212 - mae: 0.7715 - val_loss: 1.6348 - val_mae: 0.8955\n",
            "Epoch 160/200\n",
            "17/17 [==============================] - 0s 5ms/step - loss: 1.0389 - mae: 0.7360 - val_loss: 1.6428 - val_mae: 0.9074\n",
            "Epoch 161/200\n",
            "17/17 [==============================] - 0s 5ms/step - loss: 1.0288 - mae: 0.7295 - val_loss: 1.6090 - val_mae: 0.8903\n",
            "Epoch 162/200\n",
            "17/17 [==============================] - 0s 6ms/step - loss: 1.0202 - mae: 0.7190 - val_loss: 1.6825 - val_mae: 0.9126\n",
            "Epoch 163/200\n",
            "17/17 [==============================] - 0s 5ms/step - loss: 1.0034 - mae: 0.7111 - val_loss: 1.7700 - val_mae: 0.9536\n",
            "Epoch 164/200\n",
            "17/17 [==============================] - 0s 4ms/step - loss: 1.0794 - mae: 0.7491 - val_loss: 1.6496 - val_mae: 0.8942\n",
            "Epoch 165/200\n",
            "17/17 [==============================] - 0s 4ms/step - loss: 1.0121 - mae: 0.7137 - val_loss: 1.6385 - val_mae: 0.8965\n",
            "Epoch 166/200\n",
            "17/17 [==============================] - 0s 5ms/step - loss: 1.0114 - mae: 0.7142 - val_loss: 1.6568 - val_mae: 0.9031\n",
            "Epoch 167/200\n",
            "17/17 [==============================] - 0s 5ms/step - loss: 1.0342 - mae: 0.7300 - val_loss: 1.7149 - val_mae: 0.9159\n",
            "Epoch 168/200\n",
            "17/17 [==============================] - 0s 5ms/step - loss: 1.0268 - mae: 0.7223 - val_loss: 1.6204 - val_mae: 0.8891\n",
            "Epoch 169/200\n",
            "17/17 [==============================] - 0s 5ms/step - loss: 1.0665 - mae: 0.7409 - val_loss: 1.7167 - val_mae: 0.9289\n",
            "Epoch 170/200\n",
            "17/17 [==============================] - 0s 5ms/step - loss: 1.0394 - mae: 0.7374 - val_loss: 1.7365 - val_mae: 0.9381\n",
            "Epoch 171/200\n",
            "17/17 [==============================] - 0s 4ms/step - loss: 1.0310 - mae: 0.7331 - val_loss: 1.6388 - val_mae: 0.8955\n",
            "Epoch 172/200\n",
            "17/17 [==============================] - 0s 4ms/step - loss: 1.0154 - mae: 0.7126 - val_loss: 1.6188 - val_mae: 0.8973\n",
            "Epoch 173/200\n",
            "17/17 [==============================] - 0s 5ms/step - loss: 1.0348 - mae: 0.7230 - val_loss: 1.6218 - val_mae: 0.8929\n",
            "Epoch 174/200\n",
            "17/17 [==============================] - 0s 4ms/step - loss: 1.0068 - mae: 0.7212 - val_loss: 1.7350 - val_mae: 0.9375\n",
            "Epoch 175/200\n",
            "17/17 [==============================] - 0s 5ms/step - loss: 1.0346 - mae: 0.7267 - val_loss: 1.6032 - val_mae: 0.8845\n",
            "Epoch 176/200\n",
            "17/17 [==============================] - 0s 5ms/step - loss: 1.0142 - mae: 0.7160 - val_loss: 1.6404 - val_mae: 0.8968\n",
            "Epoch 177/200\n",
            "17/17 [==============================] - 0s 4ms/step - loss: 1.0201 - mae: 0.7109 - val_loss: 1.5751 - val_mae: 0.8804\n",
            "Epoch 178/200\n",
            "17/17 [==============================] - 0s 5ms/step - loss: 1.0017 - mae: 0.7089 - val_loss: 1.6652 - val_mae: 0.9052\n",
            "Epoch 179/200\n",
            "17/17 [==============================] - 0s 5ms/step - loss: 1.0171 - mae: 0.7095 - val_loss: 1.6197 - val_mae: 0.8942\n",
            "Epoch 180/200\n",
            "17/17 [==============================] - 0s 5ms/step - loss: 1.0126 - mae: 0.7211 - val_loss: 1.6367 - val_mae: 0.9069\n",
            "Epoch 181/200\n",
            "17/17 [==============================] - 0s 4ms/step - loss: 1.0025 - mae: 0.7148 - val_loss: 1.6552 - val_mae: 0.8929\n",
            "Epoch 182/200\n",
            "17/17 [==============================] - 0s 5ms/step - loss: 1.0172 - mae: 0.7185 - val_loss: 1.6137 - val_mae: 0.8983\n",
            "Epoch 183/200\n",
            "17/17 [==============================] - 0s 4ms/step - loss: 1.0161 - mae: 0.7154 - val_loss: 1.6723 - val_mae: 0.9072\n",
            "Epoch 184/200\n",
            "17/17 [==============================] - 0s 5ms/step - loss: 1.0109 - mae: 0.7127 - val_loss: 1.5956 - val_mae: 0.8968\n",
            "Epoch 185/200\n",
            "17/17 [==============================] - 0s 5ms/step - loss: 1.0394 - mae: 0.7296 - val_loss: 1.5967 - val_mae: 0.8843\n",
            "Epoch 186/200\n",
            "17/17 [==============================] - 0s 4ms/step - loss: 1.0137 - mae: 0.7117 - val_loss: 1.6199 - val_mae: 0.8994\n",
            "Epoch 187/200\n",
            "17/17 [==============================] - 0s 5ms/step - loss: 1.0127 - mae: 0.7117 - val_loss: 1.6119 - val_mae: 0.8893\n",
            "Epoch 188/200\n",
            "17/17 [==============================] - 0s 5ms/step - loss: 1.0365 - mae: 0.7359 - val_loss: 1.6505 - val_mae: 0.9108\n",
            "Epoch 189/200\n",
            "17/17 [==============================] - 0s 4ms/step - loss: 1.0058 - mae: 0.7111 - val_loss: 1.6179 - val_mae: 0.8986\n",
            "Epoch 190/200\n",
            "17/17 [==============================] - 0s 5ms/step - loss: 1.0089 - mae: 0.7185 - val_loss: 1.6399 - val_mae: 0.9067\n",
            "Epoch 191/200\n",
            "17/17 [==============================] - 0s 5ms/step - loss: 1.0213 - mae: 0.7290 - val_loss: 1.6340 - val_mae: 0.8944\n",
            "Epoch 192/200\n",
            "17/17 [==============================] - 0s 5ms/step - loss: 1.0250 - mae: 0.7299 - val_loss: 1.6279 - val_mae: 0.8906\n",
            "Epoch 193/200\n",
            "17/17 [==============================] - 0s 5ms/step - loss: 1.0166 - mae: 0.7190 - val_loss: 1.6305 - val_mae: 0.9003\n",
            "Epoch 194/200\n",
            "17/17 [==============================] - 0s 5ms/step - loss: 1.0149 - mae: 0.7139 - val_loss: 1.6368 - val_mae: 0.8990\n",
            "Epoch 195/200\n",
            "17/17 [==============================] - 0s 4ms/step - loss: 1.0269 - mae: 0.7173 - val_loss: 1.6202 - val_mae: 0.8916\n",
            "Epoch 196/200\n",
            "17/17 [==============================] - 0s 5ms/step - loss: 1.0012 - mae: 0.7109 - val_loss: 1.6447 - val_mae: 0.8929\n",
            "Epoch 197/200\n",
            "17/17 [==============================] - 0s 5ms/step - loss: 1.0153 - mae: 0.7111 - val_loss: 1.7609 - val_mae: 0.9317\n",
            "Epoch 198/200\n",
            "17/17 [==============================] - 0s 5ms/step - loss: 1.0260 - mae: 0.7245 - val_loss: 1.5932 - val_mae: 0.8879\n",
            "Epoch 199/200\n",
            "17/17 [==============================] - 0s 4ms/step - loss: 1.0254 - mae: 0.7247 - val_loss: 1.6482 - val_mae: 0.8976\n",
            "Epoch 200/200\n",
            "17/17 [==============================] - 0s 5ms/step - loss: 1.0284 - mae: 0.7220 - val_loss: 1.6554 - val_mae: 0.9007\n"
          ]
        }
      ]
    },
    {
      "cell_type": "code",
      "source": [
        "from matplotlib import pyplot as plt\n",
        "#plot the training and validation accuracy and loss at each epoch\n",
        "loss = history.history['loss']\n",
        "val_loss = history.history['val_loss']\n",
        "epochs = range(1, len(loss) + 1)\n",
        "plt.plot(epochs, loss, 'y', label='Training loss')\n",
        "plt.plot(epochs, val_loss, 'r', label='Validation loss')\n",
        "plt.title('Training and validation loss')\n",
        "plt.xlabel('Epochs')\n",
        "plt.ylabel('Loss')\n",
        "plt.legend()\n",
        "plt.show()"
      ],
      "metadata": {
        "colab": {
          "base_uri": "https://localhost:8080/",
          "height": 472
        },
        "id": "eV0rmT1h__2W",
        "outputId": "87104e90-c71e-4ec5-b841-e26d26e4c881"
      },
      "execution_count": null,
      "outputs": [
        {
          "output_type": "display_data",
          "data": {
            "text/plain": [
              "<Figure size 640x480 with 1 Axes>"
            ],
            "image/png": "[encoded data removed]"
          },
          "metadata": {}
        }
      ]
    },
    {
      "cell_type": "code",
      "source": [
        "acc = history.history['mae']\n",
        "val_acc = history.history['val_mae']\n",
        "plt.plot(epochs, acc, 'y', label='Training MAE')\n",
        "plt.plot(epochs, val_acc, 'r', label='Validation MAE')\n",
        "plt.title('Training and validation MAE')\n",
        "plt.xlabel('Epochs')\n",
        "plt.ylabel('Accuracy')\n",
        "plt.legend()\n",
        "plt.show()"
      ],
      "metadata": {
        "colab": {
          "base_uri": "https://localhost:8080/",
          "height": 472
        },
        "id": "f4zPL1e8ClDn",
        "outputId": "7500ec5b-d2e0-4973-be29-7713a2c73f85"
      },
      "execution_count": null,
      "outputs": [
        {
          "output_type": "display_data",
          "data": {
            "text/plain": [
              "<Figure size 640x480 with 1 Axes>"
            ],
            "image/png": "[encoded data removed]"
          },
          "metadata": {}
        }
      ]
    },
    {
      "cell_type": "code",
      "source": [
        "predictions = model.predict(X_test_scaled)\n",
        "print(\"Predicted values are: \", predictions)\n",
        "print(\"Real values are: \", y_test)"
      ],
      "metadata": {
        "colab": {
          "base_uri": "https://localhost:8080/"
        },
        "id": "XY5pqtCZFLdA",
        "outputId": "696ab15d-9370-4a18-e498-644f5f326a94"
      },
      "execution_count": null,
      "outputs": [
        {
          "output_type": "stream",
          "name": "stdout",
          "text": [
            "6/6 [==============================] - 0s 2ms/step\n",
            "Predicted values are:  [[ 8.807056 ]\n",
            " [ 8.578174 ]\n",
            " [ 8.830685 ]\n",
            " [ 9.517389 ]\n",
            " [ 8.399188 ]\n",
            " [11.15032  ]\n",
            " [ 7.567783 ]\n",
            " [ 9.013275 ]\n",
            " [ 8.909823 ]\n",
            " [ 8.750851 ]\n",
            " [ 5.942888 ]\n",
            " [ 9.132508 ]\n",
            " [ 8.020959 ]\n",
            " [ 9.672546 ]\n",
            " [ 8.878639 ]\n",
            " [ 6.9474607]\n",
            " [ 8.8156805]\n",
            " [ 9.657443 ]\n",
            " [ 7.7621713]\n",
            " [ 8.867104 ]\n",
            " [ 9.703857 ]\n",
            " [ 9.003436 ]\n",
            " [ 8.712242 ]\n",
            " [ 8.680885 ]\n",
            " [ 9.051587 ]\n",
            " [11.184572 ]\n",
            " [ 8.527613 ]\n",
            " [ 8.866081 ]\n",
            " [ 8.447149 ]\n",
            " [ 8.621862 ]\n",
            " [ 7.4258113]\n",
            " [ 8.073901 ]\n",
            " [ 6.6868677]\n",
            " [ 6.6470823]\n",
            " [ 6.7661886]\n",
            " [14.319525 ]\n",
            " [10.28199  ]\n",
            " [12.025578 ]\n",
            " [ 7.006655 ]\n",
            " [ 9.46912  ]\n",
            " [ 8.864135 ]\n",
            " [ 6.197525 ]\n",
            " [ 8.949172 ]\n",
            " [ 9.0555725]\n",
            " [ 6.3427672]\n",
            " [ 8.27895  ]\n",
            " [ 6.9362097]\n",
            " [ 8.873437 ]\n",
            " [ 6.0930924]\n",
            " [ 8.438648 ]\n",
            " [ 8.682747 ]\n",
            " [ 8.663923 ]\n",
            " [ 8.59297  ]\n",
            " [ 8.6213455]\n",
            " [ 8.511843 ]\n",
            " [10.568902 ]\n",
            " [ 8.388117 ]\n",
            " [ 8.416434 ]\n",
            " [ 7.855103 ]\n",
            " [ 6.7741613]\n",
            " [ 8.603665 ]\n",
            " [ 9.255719 ]\n",
            " [ 6.1336627]\n",
            " [ 8.678428 ]\n",
            " [ 7.3040686]\n",
            " [ 8.776924 ]\n",
            " [ 7.3885098]\n",
            " [ 9.560966 ]\n",
            " [ 8.785432 ]\n",
            " [ 9.168484 ]\n",
            " [ 8.814536 ]\n",
            " [ 9.266506 ]\n",
            " [ 6.474791 ]\n",
            " [10.464287 ]\n",
            " [ 7.9760165]\n",
            " [ 9.546666 ]\n",
            " [ 8.33868  ]\n",
            " [ 6.438622 ]\n",
            " [10.237314 ]\n",
            " [ 6.086736 ]\n",
            " [ 8.732153 ]\n",
            " [ 7.425955 ]\n",
            " [ 8.102385 ]\n",
            " [ 8.612766 ]\n",
            " [ 9.052042 ]\n",
            " [ 9.048    ]\n",
            " [ 7.4188666]\n",
            " [ 8.676164 ]\n",
            " [ 8.886442 ]\n",
            " [ 8.702986 ]\n",
            " [ 6.8635073]\n",
            " [ 7.9487405]\n",
            " [ 6.081342 ]\n",
            " [ 7.936873 ]\n",
            " [11.764004 ]\n",
            " [ 8.18595  ]\n",
            " [ 8.773539 ]\n",
            " [ 8.750763 ]\n",
            " [10.64065  ]\n",
            " [ 9.297371 ]\n",
            " [ 9.187169 ]\n",
            " [ 6.7097745]\n",
            " [ 8.5110035]\n",
            " [ 8.896436 ]\n",
            " [ 6.1509666]\n",
            " [ 9.119206 ]\n",
            " [ 6.631717 ]\n",
            " [ 7.4533534]\n",
            " [ 9.045734 ]\n",
            " [ 8.553416 ]\n",
            " [ 8.8840475]\n",
            " [ 8.879734 ]\n",
            " [ 9.40605  ]\n",
            " [10.278369 ]\n",
            " [ 8.029609 ]\n",
            " [ 8.667079 ]\n",
            " [ 8.111121 ]\n",
            " [ 8.5343485]\n",
            " [ 8.776879 ]\n",
            " [ 7.770737 ]\n",
            " [ 8.265143 ]\n",
            " [ 8.723575 ]\n",
            " [ 8.732533 ]\n",
            " [ 9.079916 ]\n",
            " [ 6.7508698]\n",
            " [ 8.612399 ]\n",
            " [11.326107 ]\n",
            " [ 8.593314 ]\n",
            " [ 7.885784 ]\n",
            " [ 8.879474 ]\n",
            " [15.15928  ]\n",
            " [ 9.966716 ]\n",
            " [ 8.959291 ]\n",
            " [ 7.054132 ]\n",
            " [ 9.440838 ]\n",
            " [ 8.8437   ]\n",
            " [ 8.262977 ]\n",
            " [ 8.306407 ]\n",
            " [ 9.432035 ]\n",
            " [ 9.07822  ]\n",
            " [ 9.493236 ]\n",
            " [10.975735 ]\n",
            " [ 8.303887 ]\n",
            " [ 8.467381 ]\n",
            " [ 9.578311 ]\n",
            " [ 7.7514567]\n",
            " [ 8.983343 ]\n",
            " [ 6.155167 ]\n",
            " [ 8.911323 ]\n",
            " [ 7.30469  ]\n",
            " [ 8.051648 ]\n",
            " [ 9.565682 ]\n",
            " [ 9.34534  ]\n",
            " [ 6.0632415]\n",
            " [ 8.662399 ]\n",
            " [ 8.2927685]\n",
            " [ 9.209937 ]\n",
            " [ 8.687119 ]\n",
            " [ 8.39529  ]\n",
            " [ 6.38677  ]\n",
            " [ 8.680666 ]\n",
            " [ 8.905962 ]\n",
            " [ 8.089114 ]]\n",
            "Real values are:  302    9.15\n",
            "62     8.68\n",
            "811    7.25\n",
            "616    8.79\n",
            "359    8.74\n",
            "       ... \n",
            "53     9.56\n",
            "24     7.06\n",
            "226    8.67\n",
            "211    7.92\n",
            "180    8.46\n",
            "Name: Level, Length: 163, dtype: float64\n"
          ]
        }
      ]
    },
    {
      "cell_type": "code",
      "source": [
        "from sklearn.linear_model import LinearRegression\n",
        "from sklearn.metrics import r2_score"
      ],
      "metadata": {
        "id": "o5d3MC7BjW97"
      },
      "execution_count": null,
      "outputs": []
    },
    {
      "cell_type": "code",
      "source": [
        "r_squared = r2_score(y_test,predictions)\n",
        "print(\"R-squared:\", r_squared)"
      ],
      "metadata": {
        "colab": {
          "base_uri": "https://localhost:8080/"
        },
        "id": "krypBRtXjiI6",
        "outputId": "202f7f4b-7631-40bf-8731-ebf853a8c9a6"
      },
      "execution_count": null,
      "outputs": [
        {
          "output_type": "stream",
          "name": "stdout",
          "text": [
            "R-squared: 0.4855937755930756\n"
          ]
        }
      ]
    },
    {
      "cell_type": "code",
      "source": [
        "from sklearn.metrics import r2_score\n",
        "\n",
        "# assuming you have your actual and predicted outputs in y_actual and y_pred variables\n",
        "r2 = r2_score(y_test,predictions)\n",
        "\n",
        "print(\"R-squared:\", r2)"
      ],
      "metadata": {
        "colab": {
          "base_uri": "https://localhost:8080/"
        },
        "id": "4pQpwiDf4Ka7",
        "outputId": "f8d0285e-8f37-4817-af5c-2e72551f977d"
      },
      "execution_count": null,
      "outputs": [
        {
          "output_type": "stream",
          "name": "stdout",
          "text": [
            "R-squared: 0.4855937755930756\n"
          ]
        }
      ]
    },
    {
      "cell_type": "code",
      "source": [
        "mse_neural, mae_neural = model.evaluate(X_test_scaled, y_test)\n",
        "print('Mean squared error from neural net: ', mse_neural)\n",
        "print('Mean absolute error from neural net: ', mae_neural)"
      ],
      "metadata": {
        "colab": {
          "base_uri": "https://localhost:8080/"
        },
        "id": "o2U3LGQ2G7aX",
        "outputId": "e81128e2-e685-449c-9347-f495ba437fb8"
      },
      "execution_count": null,
      "outputs": [
        {
          "output_type": "stream",
          "name": "stdout",
          "text": [
            "6/6 [==============================] - 0s 9ms/step - loss: 2.0202 - mae: 0.8867\n",
            "Mean squared error from neural net:  2.0202178955078125\n",
            "Mean absolute error from neural net:  0.8867006897926331\n"
          ]
        }
      ]
    },
    {
      "cell_type": "code",
      "source": [
        "# Predictions\n",
        "preds = model.predict(X_test_scaled)\n",
        "\n",
        "# Performance\n",
        "performance = pd.DataFrame({ 'True Value': y_test,\n",
        "                            'Prediction': preds,\n",
        "                            'Error': y_test - preds})\n",
        "# View\n",
        "performance"
      ],
      "metadata": {
        "colab": {
          "base_uri": "https://localhost:8080/",
          "height": 650
        },
        "id": "cIwhWhPf5aKY",
        "outputId": "3d82d2e2-9147-41dc-a2e7-30e4e280f4cd"
      },
      "execution_count": null,
      "outputs": [
        {
          "output_type": "execute_result",
          "data": {
            "text/plain": [
              "     True Value  Prediction   Error\n",
              "302        9.15      8.6340  0.5160\n",
              "62         8.68      9.4050 -0.7250\n",
              "811        7.25      9.1055 -1.8555\n",
              "616        8.79      9.3500 -0.5600\n",
              "359        8.74      8.1455  0.5945\n",
              "..          ...         ...     ...\n",
              "53         9.56      8.6505  0.9095\n",
              "24         7.06      6.1845  0.8755\n",
              "226        8.67      8.1870  0.4830\n",
              "211        7.92      8.2060 -0.2860\n",
              "180        8.46      7.9595  0.5005\n",
              "\n",
              "[163 rows x 3 columns]"
            ],
            "text/html": [
              "\n",
              "  <div id=\"df-f1c01734-3f01-474f-a5b2-ff4bd5e541e4\">\n",
              "    <div class=\"colab-df-container\">\n",
              "      <div>\n",
              "<style scoped>\n",
              "    .dataframe tbody tr th:only-of-type {\n",
              "        vertical-align: middle;\n",
              "    }\n",
              "\n",
              "    .dataframe tbody tr th {\n",
              "        vertical-align: top;\n",
              "    }\n",
              "\n",
              "    .dataframe thead th {\n",
              "        text-align: right;\n",
              "    }\n",
              "</style>\n",
              "<table border=\"1\" class=\"dataframe\">\n",
              "  <thead>\n",
              "    <tr style=\"text-align: right;\">\n",
              "      <th></th>\n",
              "      <th>True Value</th>\n",
              "      <th>Prediction</th>\n",
              "      <th>Error</th>\n",
              "    </tr>\n",
              "  </thead>\n",
              "  <tbody>\n",
              "    <tr>\n",
              "      <th>302</th>\n",
              "      <td>9.15</td>\n",
              "      <td>8.6340</td>\n",
              "      <td>0.5160</td>\n",
              "    </tr>\n",
              "    <tr>\n",
              "      <th>62</th>\n",
              "      <td>8.68</td>\n",
              "      <td>9.4050</td>\n",
              "      <td>-0.7250</td>\n",
              "    </tr>\n",
              "    <tr>\n",
              "      <th>811</th>\n",
              "      <td>7.25</td>\n",
              "      <td>9.1055</td>\n",
              "      <td>-1.8555</td>\n",
              "    </tr>\n",
              "    <tr>\n",
              "      <th>616</th>\n",
              "      <td>8.79</td>\n",
              "      <td>9.3500</td>\n",
              "      <td>-0.5600</td>\n",
              "    </tr>\n",
              "    <tr>\n",
              "      <th>359</th>\n",
              "      <td>8.74</td>\n",
              "      <td>8.1455</td>\n",
              "      <td>0.5945</td>\n",
              "    </tr>\n",
              "    <tr>\n",
              "      <th>...</th>\n",
              "      <td>...</td>\n",
              "      <td>...</td>\n",
              "      <td>...</td>\n",
              "    </tr>\n",
              "    <tr>\n",
              "      <th>53</th>\n",
              "      <td>9.56</td>\n",
              "      <td>8.6505</td>\n",
              "      <td>0.9095</td>\n",
              "    </tr>\n",
              "    <tr>\n",
              "      <th>24</th>\n",
              "      <td>7.06</td>\n",
              "      <td>6.1845</td>\n",
              "      <td>0.8755</td>\n",
              "    </tr>\n",
              "    <tr>\n",
              "      <th>226</th>\n",
              "      <td>8.67</td>\n",
              "      <td>8.1870</td>\n",
              "      <td>0.4830</td>\n",
              "    </tr>\n",
              "    <tr>\n",
              "      <th>211</th>\n",
              "      <td>7.92</td>\n",
              "      <td>8.2060</td>\n",
              "      <td>-0.2860</td>\n",
              "    </tr>\n",
              "    <tr>\n",
              "      <th>180</th>\n",
              "      <td>8.46</td>\n",
              "      <td>7.9595</td>\n",
              "      <td>0.5005</td>\n",
              "    </tr>\n",
              "  </tbody>\n",
              "</table>\n",
              "<p>163 rows × 3 columns</p>\n",
              "</div>\n",
              "      <button class=\"colab-df-convert\" onclick=\"convertToInteractive('df-f1c01734-3f01-474f-a5b2-ff4bd5e541e4')\"\n",
              "              title=\"Convert this dataframe to an interactive table.\"\n",
              "              style=\"display:none;\">\n",
              "        \n",
              "  <svg xmlns=\"http://www.w3.org/2000/svg\" height=\"24px\"viewBox=\"0 0 24 24\"\n",
              "       width=\"24px\">\n",
              "    <path d=\"M0 0h24v24H0V0z\" fill=\"none\"/>\n",
              "    <path d=\"M18.56 5.44l.94 2.06.94-2.06 2.06-.94-2.06-.94-.94-2.06-.94 2.06-2.06.94zm-11 1L8.5 8.5l.94-2.06 2.06-.94-2.06-.94L8.5 2.5l-.94 2.06-2.06.94zm10 10l.94 2.06.94-2.06 2.06-.94-2.06-.94-.94-2.06-.94 2.06-2.06.94z\"/><path d=\"M17.41 7.96l-1.37-1.37c-.4-.4-.92-.59-1.43-.59-.52 0-1.04.2-1.43.59L10.3 9.45l-7.72 7.72c-.78.78-.78 2.05 0 2.83L4 21.41c.39.39.9.59 1.41.59.51 0 1.02-.2 1.41-.59l7.78-7.78 2.81-2.81c.8-.78.8-2.07 0-2.86zM5.41 20L4 18.59l7.72-7.72 1.47 1.35L5.41 20z\"/>\n",
              "  </svg>\n",
              "      </button>\n",
              "      \n",
              "  <style>\n",
              "    .colab-df-container {\n",
              "      display:flex;\n",
              "      flex-wrap:wrap;\n",
              "      gap: 12px;\n",
              "    }\n",
              "\n",
              "    .colab-df-convert {\n",
              "      background-color: #E8F0FE;\n",
              "      border: none;\n",
              "      border-radius: 50%;\n",
              "      cursor: pointer;\n",
              "      display: none;\n",
              "      fill: #1967D2;\n",
              "      height: 32px;\n",
              "      padding: 0 0 0 0;\n",
              "      width: 32px;\n",
              "    }\n",
              "\n",
              "    .colab-df-convert:hover {\n",
              "      background-color: #E2EBFA;\n",
              "      box-shadow: 0px 1px 2px rgba(60, 64, 67, 0.3), 0px 1px 3px 1px rgba(60, 64, 67, 0.15);\n",
              "      fill: #174EA6;\n",
              "    }\n",
              "\n",
              "    [theme=dark] .colab-df-convert {\n",
              "      background-color: #3B4455;\n",
              "      fill: #D2E3FC;\n",
              "    }\n",
              "\n",
              "    [theme=dark] .colab-df-convert:hover {\n",
              "      background-color: #434B5C;\n",
              "      box-shadow: 0px 1px 3px 1px rgba(0, 0, 0, 0.15);\n",
              "      filter: drop-shadow(0px 1px 2px rgba(0, 0, 0, 0.3));\n",
              "      fill: #FFFFFF;\n",
              "    }\n",
              "  </style>\n",
              "\n",
              "      <script>\n",
              "        const buttonEl =\n",
              "          document.querySelector('#df-f1c01734-3f01-474f-a5b2-ff4bd5e541e4 button.colab-df-convert');\n",
              "        buttonEl.style.display =\n",
              "          google.colab.kernel.accessAllowed ? 'block' : 'none';\n",
              "\n",
              "        async function convertToInteractive(key) {\n",
              "          const element = document.querySelector('#df-f1c01734-3f01-474f-a5b2-ff4bd5e541e4');\n",
              "          const dataTable =\n",
              "            await google.colab.kernel.invokeFunction('convertToInteractive',\n",
              "                                                     [key], {});\n",
              "          if (!dataTable) return;\n",
              "\n",
              "          const docLinkHtml = 'Like what you see? Visit the ' +\n",
              "            '<a target=\"_blank\" href=https://colab.research.google.com/notebooks/data_table.ipynb>data table notebook</a>'\n",
              "            + ' to learn more about interactive tables.';\n",
              "          element.innerHTML = '';\n",
              "          dataTable['output_type'] = 'display_data';\n",
              "          await google.colab.output.renderOutput(dataTable, element);\n",
              "          const docLink = document.createElement('div');\n",
              "          docLink.innerHTML = docLinkHtml;\n",
              "          element.appendChild(docLink);\n",
              "        }\n",
              "      </script>\n",
              "    </div>\n",
              "  </div>\n",
              "  "
            ]
          },
          "metadata": {},
          "execution_count": 54
        }
      ]
    },
    {
      "cell_type": "code",
      "source": [
        "from sklearn import linear_model\n",
        "from sklearn.tree import DecisionTreeRegressor\n",
        "from sklearn.metrics import mean_squared_error, mean_absolute_error\n"
      ],
      "metadata": {
        "id": "q_4dknspHbH8"
      },
      "execution_count": null,
      "outputs": []
    },
    {
      "cell_type": "code",
      "source": [
        "\n",
        "lr_model = linear_model.LinearRegression()\n",
        "lr_model.fit(X_train_scaled, y_train)\n",
        "y_pred_lr = lr_model.predict(X_test_scaled)\n",
        "mse_lr = mean_squared_error(y_test, y_pred_lr)\n",
        "mae_lr = mean_absolute_error(y_test, y_pred_lr)\n",
        "print('Mean squared error from linear regression: ', mse_lr)\n",
        "print('Mean absolute error from linear regression: ', mae_lr)\n",
        "r_squared = r2_score(y_test,y_pred_lr)\n",
        "print(\"R-squared:\", r_squared)\n"
      ],
      "metadata": {
        "colab": {
          "base_uri": "https://localhost:8080/"
        },
        "id": "K5LwrtI-HdNC",
        "outputId": "24cbce95-9df7-4b3b-e08f-ed869d34ceca"
      },
      "execution_count": null,
      "outputs": [
        {
          "output_type": "stream",
          "name": "stdout",
          "text": [
            "Mean squared error from linear regression:  2.4292124505909936\n",
            "Mean absolute error from linear regression:  1.0851947806346516\n",
            "R-squared: 0.3814517520718489\n"
          ]
        }
      ]
    },
    {
      "cell_type": "code",
      "source": [
        "tree = DecisionTreeRegressor()\n",
        "tree.fit(X_train_scaled, y_train)\n",
        "y_pred_tree = tree.predict(X_test_scaled)\n",
        "mse_dt = mean_squared_error(y_test, y_pred_tree)\n",
        "mae_dt = mean_absolute_error(y_test, y_pred_tree)\n",
        "print('Mean squared error using decision tree: ', mse_dt)\n",
        "print('Mean absolute error using decision tree: ', mae_dt)\n",
        "r_squared = r2_score(y_test,y_pred_tree)\n",
        "print(\"R-squared:\", r_squared)\n"
      ],
      "metadata": {
        "colab": {
          "base_uri": "https://localhost:8080/"
        },
        "id": "0wiXESeAHlaO",
        "outputId": "a8b9300c-7db1-49b1-c3c6-78cd0368cd18"
      },
      "execution_count": null,
      "outputs": [
        {
          "output_type": "stream",
          "name": "stdout",
          "text": [
            "Mean squared error using decision tree:  3.6241135019263884\n",
            "Mean absolute error using decision tree:  1.2482822104294478\n",
            "R-squared: 0.07719513936957145\n"
          ]
        }
      ]
    },
    {
      "cell_type": "code",
      "source": [
        "##############################################\n",
        "#Random forest.\n",
        "#Increase number of tress and see the effect\n",
        "from sklearn.ensemble import RandomForestRegressor\n",
        "model = RandomForestRegressor(n_estimators = 20, random_state=20)\n",
        "model.fit(X_train_scaled, y_train)\n",
        "\n",
        "y_pred_RF = model.predict(X_test_scaled)\n",
        "\n",
        "mse_RF = mean_squared_error(y_test, y_pred_RF)\n",
        "mae_RF = mean_absolute_error(y_test, y_pred_RF)\n",
        "print('Mean squared error using Random Forest: ', mse_RF)\n",
        "print('Mean absolute error Using Random Forest: ', mae_RF)\n",
        "r_squared = r2_score(y_test,y_pred_RF)\n",
        "print(\"R-squared:\", r_squared)\n"
      ],
      "metadata": {
        "colab": {
          "base_uri": "https://localhost:8080/"
        },
        "id": "XU_cLMbkHsd3",
        "outputId": "640386f1-3993-484a-d136-4d55814ba47c"
      },
      "execution_count": null,
      "outputs": [
        {
          "output_type": "stream",
          "name": "stdout",
          "text": [
            "Mean squared error using Random Forest:  2.2029151856807427\n",
            "Mean absolute error Using Random Forest:  0.9315337462576687\n",
            "R-squared: 0.4390736272961069\n"
          ]
        }
      ]
    },
    {
      "cell_type": "code",
      "source": [
        "import pandas as pd\n",
        "feature_list = list(X.columns)\n",
        "feature_imp = pd.Series(model.feature_importances_, index=feature_list).sort_values(ascending=False)\n",
        "print(feature_imp)"
      ],
      "metadata": {
        "colab": {
          "base_uri": "https://localhost:8080/"
        },
        "id": "1f9C-gXBH9ig",
        "outputId": "8a1626b7-2de3-4e2c-d86f-957227118929"
      },
      "execution_count": null,
      "outputs": [
        {
          "output_type": "stream",
          "name": "stdout",
          "text": [
            "Tempreature    0.536701\n",
            "rainfall       0.308833\n",
            "Humidity       0.154466\n",
            "dtype: float64\n"
          ]
        }
      ]
    },
    {
      "cell_type": "code",
      "source": [
        "from sklearn.neighbors import KNeighborsRegressor\n",
        "knn_model = KNeighborsRegressor(n_neighbors=6).fit(X_train_scaled, y_train)\n"
      ],
      "metadata": {
        "id": "2f4mVdna-LQ5"
      },
      "execution_count": null,
      "outputs": []
    },
    {
      "cell_type": "code",
      "source": [
        "y_pred_KNN = knn_model.predict(X_test_scaled)\n",
        "\n",
        "mse_KNN = mean_squared_error(y_test, y_pred_KNN)\n",
        "mae_KNN = mean_absolute_error(y_test, y_pred_KNN)\n",
        "print('Mean squared error using KNN: ', mse_KNN)\n",
        "print('Mean absolute error Using KNN: ', mae_KNN)\n",
        "r_squared = r2_score(y_test,y_pred_KNN)\n",
        "print(\"R-squared:\", r_squared)"
      ],
      "metadata": {
        "colab": {
          "base_uri": "https://localhost:8080/"
        },
        "id": "X8LPkHnJAOV9",
        "outputId": "8fa36454-2a52-440d-e1a9-897b8286498b"
      },
      "execution_count": null,
      "outputs": [
        {
          "output_type": "stream",
          "name": "stdout",
          "text": [
            "Mean squared error using KNN:  2.212908875949564\n",
            "Mean absolute error Using KNN:  0.9901840517382414\n",
            "R-squared: 0.4365289426578357\n"
          ]
        }
      ]
    },
    {
      "cell_type": "code",
      "source": [
        "from sklearn import metrics\n",
        "\n",
        "print(\"RMSE:\",np.sqrt(metrics.mean_squared_error(y_test, y_pred_KNN)))"
      ],
      "metadata": {
        "colab": {
          "base_uri": "https://localhost:8080/"
        },
        "id": "2NOry92FA7zv",
        "outputId": "21e5860c-610b-44b6-def0-da538d5bc8a7"
      },
      "execution_count": null,
      "outputs": [
        {
          "output_type": "stream",
          "name": "stdout",
          "text": [
            "RMSE: 1.487584913861916\n"
          ]
        }
      ]
    },
    {
      "cell_type": "code",
      "source": [
        "from sklearn.svm import SVR\n",
        "regressor = SVR(kernel = 'rbf')\n",
        "regressor.fit(X_train_scaled, y_train)"
      ],
      "metadata": {
        "colab": {
          "base_uri": "https://localhost:8080/",
          "height": 74
        },
        "id": "e4_Q6aCGIxxs",
        "outputId": "196ed9f4-d5bc-42af-a249-48fff9bb2255"
      },
      "execution_count": null,
      "outputs": [
        {
          "output_type": "execute_result",
          "data": {
            "text/plain": [
              "SVR()"
            ],
            "text/html": [
              "<style>#sk-container-id-2 {color: black;background-color: white;}#sk-container-id-2 pre{padding: 0;}#sk-container-id-2 div.sk-toggleable {background-color: white;}#sk-container-id-2 label.sk-toggleable__label {cursor: pointer;display: block;width: 100%;margin-bottom: 0;padding: 0.3em;box-sizing: border-box;text-align: center;}#sk-container-id-2 label.sk-toggleable__label-arrow:before {content: \"▸\";float: left;margin-right: 0.25em;color: #696969;}#sk-container-id-2 label.sk-toggleable__label-arrow:hover:before {color: black;}#sk-container-id-2 div.sk-estimator:hover label.sk-toggleable__label-arrow:before {color: black;}#sk-container-id-2 div.sk-toggleable__content {max-height: 0;max-width: 0;overflow: hidden;text-align: left;background-color: #f0f8ff;}#sk-container-id-2 div.sk-toggleable__content pre {margin: 0.2em;color: black;border-radius: 0.25em;background-color: #f0f8ff;}#sk-container-id-2 input.sk-toggleable__control:checked~div.sk-toggleable__content {max-height: 200px;max-width: 100%;overflow: auto;}#sk-container-id-2 input.sk-toggleable__control:checked~label.sk-toggleable__label-arrow:before {content: \"▾\";}#sk-container-id-2 div.sk-estimator input.sk-toggleable__control:checked~label.sk-toggleable__label {background-color: #d4ebff;}#sk-container-id-2 div.sk-label input.sk-toggleable__control:checked~label.sk-toggleable__label {background-color: #d4ebff;}#sk-container-id-2 input.sk-hidden--visually {border: 0;clip: rect(1px 1px 1px 1px);clip: rect(1px, 1px, 1px, 1px);height: 1px;margin: -1px;overflow: hidden;padding: 0;position: absolute;width: 1px;}#sk-container-id-2 div.sk-estimator {font-family: monospace;background-color: #f0f8ff;border: 1px dotted black;border-radius: 0.25em;box-sizing: border-box;margin-bottom: 0.5em;}#sk-container-id-2 div.sk-estimator:hover {background-color: #d4ebff;}#sk-container-id-2 div.sk-parallel-item::after {content: \"\";width: 100%;border-bottom: 1px solid gray;flex-grow: 1;}#sk-container-id-2 div.sk-label:hover label.sk-toggleable__label {background-color: #d4ebff;}#sk-container-id-2 div.sk-serial::before {content: \"\";position: absolute;border-left: 1px solid gray;box-sizing: border-box;top: 0;bottom: 0;left: 50%;z-index: 0;}#sk-container-id-2 div.sk-serial {display: flex;flex-direction: column;align-items: center;background-color: white;padding-right: 0.2em;padding-left: 0.2em;position: relative;}#sk-container-id-2 div.sk-item {position: relative;z-index: 1;}#sk-container-id-2 div.sk-parallel {display: flex;align-items: stretch;justify-content: center;background-color: white;position: relative;}#sk-container-id-2 div.sk-item::before, #sk-container-id-2 div.sk-parallel-item::before {content: \"\";position: absolute;border-left: 1px solid gray;box-sizing: border-box;top: 0;bottom: 0;left: 50%;z-index: -1;}#sk-container-id-2 div.sk-parallel-item {display: flex;flex-direction: column;z-index: 1;position: relative;background-color: white;}#sk-container-id-2 div.sk-parallel-item:first-child::after {align-self: flex-end;width: 50%;}#sk-container-id-2 div.sk-parallel-item:last-child::after {align-self: flex-start;width: 50%;}#sk-container-id-2 div.sk-parallel-item:only-child::after {width: 0;}#sk-container-id-2 div.sk-dashed-wrapped {border: 1px dashed gray;margin: 0 0.4em 0.5em 0.4em;box-sizing: border-box;padding-bottom: 0.4em;background-color: white;}#sk-container-id-2 div.sk-label label {font-family: monospace;font-weight: bold;display: inline-block;line-height: 1.2em;}#sk-container-id-2 div.sk-label-container {text-align: center;}#sk-container-id-2 div.sk-container {/* jupyter's `normalize.less` sets `[hidden] { display: none; }` but bootstrap.min.css set `[hidden] { display: none !important; }` so we also need the `!important` here to be able to override the default hidden behavior on the sphinx rendered scikit-learn.org. See: https://github.com/scikit-learn/scikit-learn/issues/21755 */display: inline-block !important;position: relative;}#sk-container-id-2 div.sk-text-repr-fallback {display: none;}</style><div id=\"sk-container-id-2\" class=\"sk-top-container\"><div class=\"sk-text-repr-fallback\"><pre>SVR()</pre><b>In a Jupyter environment, please rerun this cell to show the HTML representation or trust the notebook. <br />On GitHub, the HTML representation is unable to render, please try loading this page with nbviewer.org.</b></div><div class=\"sk-container\" hidden><div class=\"sk-item\"><div class=\"sk-estimator sk-toggleable\"><input class=\"sk-toggleable__control sk-hidden--visually\" id=\"sk-estimator-id-2\" type=\"checkbox\" checked><label for=\"sk-estimator-id-2\" class=\"sk-toggleable__label sk-toggleable__label-arrow\">SVR</label><div class=\"sk-toggleable__content\"><pre>SVR()</pre></div></div></div></div></div>"
            ]
          },
          "metadata": {},
          "execution_count": 46
        }
      ]
    },
    {
      "cell_type": "code",
      "source": [
        "y_pred_SVM = regressor.predict(X_test_scaled)\n",
        "\n",
        "mse_SVM = mean_squared_error(y_test, y_pred_SVM)\n",
        "mae_SVM = mean_absolute_error(y_test, y_pred_SVM)\n",
        "print('Mean squared error using SVM: ', mse_SVM)\n",
        "print('Mean absolute error Using SVM: ', mae_SVM)\n",
        "r_squared = r2_score(y_test,y_pred_SVM)\n",
        "print(\"R-squared:\", r_squared)"
      ],
      "metadata": {
        "colab": {
          "base_uri": "https://localhost:8080/"
        },
        "id": "iBUzm26RI8fk",
        "outputId": "6ed5b3d7-e858-42ec-f1d8-fdc09da562cf"
      },
      "execution_count": null,
      "outputs": [
        {
          "output_type": "stream",
          "name": "stdout",
          "text": [
            "Mean squared error using SVM:  2.1651900030872246\n",
            "Mean absolute error Using SVM:  0.9298081335878357\n",
            "R-squared: 0.44867955764209744\n"
          ]
        }
      ]
    },
    {
      "cell_type": "code",
      "source": [
        "from sklearn.metrics import r2_score\n",
        "\n",
        "# assuming you have your actual and predicted outputs in y_actual and y_pred variables\n",
        "r2 = r2_score(y_test, y_pred_SVM)\n",
        "\n",
        "print(\"R-squa:\", r2)"
      ],
      "metadata": {
        "colab": {
          "base_uri": "https://localhost:8080/"
        },
        "id": "xE3Dy8rijRyO",
        "outputId": "ced83541-7341-4b3e-d5cd-89a407398151"
      },
      "execution_count": null,
      "outputs": [
        {
          "output_type": "stream",
          "name": "stdout",
          "text": [
            "R-squa: 0.44867955764209744\n"
          ]
        }
      ]
    },
    {
      "cell_type": "code",
      "source": [
        "from scipy.stats import probplot\n",
        "#QQ Plot\n",
        "probplot(y_pred_SVM, dist='norm', plot=plt);\n",
        "plt.title('Training and validation MAE')\n",
        "plt.xlabel('Epochs')\n",
        "plt.ylabel('Accuracy')\n",
        "plt.legend()\n",
        "plt.show()"
      ],
      "metadata": {
        "id": "WXvSNJgSKpPf",
        "colab": {
          "base_uri": "https://localhost:8080/",
          "height": 489
        },
        "outputId": "625cdbec-1732-4da6-f510-0704ff839625"
      },
      "execution_count": null,
      "outputs": [
        {
          "output_type": "stream",
          "name": "stderr",
          "text": [
            "WARNING:matplotlib.legend:No artists with labels found to put in legend.  Note that artists whose label start with an underscore are ignored when legend() is called with no argument.\n"
          ]
        },
        {
          "output_type": "display_data",
          "data": {
            "text/plain": [
              "<Figure size 640x480 with 1 Axes>"
            ],
            "image/png": "[encoded data removed]"
          },
          "metadata": {}
        }
      ]
    }
  ]
}